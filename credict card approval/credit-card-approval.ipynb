{
 "cells": [
  {
   "cell_type": "code",
   "execution_count": 75,
   "id": "607cf0da",
   "metadata": {
    "_execution_state": "idle",
    "_uuid": "051d70d956493feee0c6d64651c6a088724dca2a",
    "execution": {
     "iopub.execute_input": "2024-06-17T16:18:58.007089Z",
     "iopub.status.busy": "2024-06-17T16:18:58.006690Z",
     "iopub.status.idle": "2024-06-17T16:19:00.570117Z",
     "shell.execute_reply": "2024-06-17T16:19:00.569153Z"
    },
    "papermill": {
     "duration": 2.584666,
     "end_time": "2024-06-17T16:19:00.572842",
     "exception": false,
     "start_time": "2024-06-17T16:18:57.988176",
     "status": "completed"
    },
    "tags": []
   },
   "outputs": [],
   "source": [
    "import pandas as pd\n",
    "import numpy as np\n",
    "import pickle\n",
    "import seaborn as sns\n",
    "import matplotlib.pyplot as plt\n",
    "\n",
    "from sklearn.model_selection import train_test_split\n",
    "from sklearn.linear_model import LogisticRegression\n",
    "from sklearn.metrics import accuracy_score\n",
    "import warnings\n",
    "warnings.simplefilter('ignore')"
   ]
  },
  {
   "cell_type": "code",
   "execution_count": 76,
   "id": "3126523f",
   "metadata": {
    "execution": {
     "iopub.execute_input": "2024-06-17T16:19:00.608618Z",
     "iopub.status.busy": "2024-06-17T16:19:00.608051Z",
     "iopub.status.idle": "2024-06-17T16:19:00.671046Z",
     "shell.execute_reply": "2024-06-17T16:19:00.669724Z"
    },
    "papermill": {
     "duration": 0.085437,
     "end_time": "2024-06-17T16:19:00.675466",
     "exception": false,
     "start_time": "2024-06-17T16:19:00.590029",
     "status": "completed"
    },
    "tags": []
   },
   "outputs": [
    {
     "data": {
      "text/html": [
       "<div>\n",
       "<style scoped>\n",
       "    .dataframe tbody tr th:only-of-type {\n",
       "        vertical-align: middle;\n",
       "    }\n",
       "\n",
       "    .dataframe tbody tr th {\n",
       "        vertical-align: top;\n",
       "    }\n",
       "\n",
       "    .dataframe thead th {\n",
       "        text-align: right;\n",
       "    }\n",
       "</style>\n",
       "<table border=\"1\" class=\"dataframe\">\n",
       "  <thead>\n",
       "    <tr style=\"text-align: right;\">\n",
       "      <th></th>\n",
       "      <th>Gender</th>\n",
       "      <th>Age</th>\n",
       "      <th>Debt</th>\n",
       "      <th>Married</th>\n",
       "      <th>BankCustomer</th>\n",
       "      <th>Industry</th>\n",
       "      <th>Ethnicity</th>\n",
       "      <th>YearsEmployed</th>\n",
       "      <th>PriorDefault</th>\n",
       "      <th>Employed</th>\n",
       "      <th>CreditScore</th>\n",
       "      <th>DriversLicense</th>\n",
       "      <th>Citizen</th>\n",
       "      <th>ZipCode</th>\n",
       "      <th>Income</th>\n",
       "      <th>Approved</th>\n",
       "    </tr>\n",
       "  </thead>\n",
       "  <tbody>\n",
       "    <tr>\n",
       "      <th>0</th>\n",
       "      <td>1</td>\n",
       "      <td>30.83</td>\n",
       "      <td>0.000</td>\n",
       "      <td>1</td>\n",
       "      <td>1</td>\n",
       "      <td>Industrials</td>\n",
       "      <td>White</td>\n",
       "      <td>1.25</td>\n",
       "      <td>1</td>\n",
       "      <td>1</td>\n",
       "      <td>1</td>\n",
       "      <td>0</td>\n",
       "      <td>ByBirth</td>\n",
       "      <td>202</td>\n",
       "      <td>0</td>\n",
       "      <td>1</td>\n",
       "    </tr>\n",
       "    <tr>\n",
       "      <th>1</th>\n",
       "      <td>0</td>\n",
       "      <td>58.67</td>\n",
       "      <td>4.460</td>\n",
       "      <td>1</td>\n",
       "      <td>1</td>\n",
       "      <td>Materials</td>\n",
       "      <td>Black</td>\n",
       "      <td>3.04</td>\n",
       "      <td>1</td>\n",
       "      <td>1</td>\n",
       "      <td>6</td>\n",
       "      <td>0</td>\n",
       "      <td>ByBirth</td>\n",
       "      <td>43</td>\n",
       "      <td>560</td>\n",
       "      <td>1</td>\n",
       "    </tr>\n",
       "    <tr>\n",
       "      <th>2</th>\n",
       "      <td>0</td>\n",
       "      <td>24.50</td>\n",
       "      <td>0.500</td>\n",
       "      <td>1</td>\n",
       "      <td>1</td>\n",
       "      <td>Materials</td>\n",
       "      <td>Black</td>\n",
       "      <td>1.50</td>\n",
       "      <td>1</td>\n",
       "      <td>0</td>\n",
       "      <td>0</td>\n",
       "      <td>0</td>\n",
       "      <td>ByBirth</td>\n",
       "      <td>280</td>\n",
       "      <td>824</td>\n",
       "      <td>1</td>\n",
       "    </tr>\n",
       "    <tr>\n",
       "      <th>3</th>\n",
       "      <td>1</td>\n",
       "      <td>27.83</td>\n",
       "      <td>1.540</td>\n",
       "      <td>1</td>\n",
       "      <td>1</td>\n",
       "      <td>Industrials</td>\n",
       "      <td>White</td>\n",
       "      <td>3.75</td>\n",
       "      <td>1</td>\n",
       "      <td>1</td>\n",
       "      <td>5</td>\n",
       "      <td>1</td>\n",
       "      <td>ByBirth</td>\n",
       "      <td>100</td>\n",
       "      <td>3</td>\n",
       "      <td>1</td>\n",
       "    </tr>\n",
       "    <tr>\n",
       "      <th>4</th>\n",
       "      <td>1</td>\n",
       "      <td>20.17</td>\n",
       "      <td>5.625</td>\n",
       "      <td>1</td>\n",
       "      <td>1</td>\n",
       "      <td>Industrials</td>\n",
       "      <td>White</td>\n",
       "      <td>1.71</td>\n",
       "      <td>1</td>\n",
       "      <td>0</td>\n",
       "      <td>0</td>\n",
       "      <td>0</td>\n",
       "      <td>ByOtherMeans</td>\n",
       "      <td>120</td>\n",
       "      <td>0</td>\n",
       "      <td>1</td>\n",
       "    </tr>\n",
       "    <tr>\n",
       "      <th>...</th>\n",
       "      <td>...</td>\n",
       "      <td>...</td>\n",
       "      <td>...</td>\n",
       "      <td>...</td>\n",
       "      <td>...</td>\n",
       "      <td>...</td>\n",
       "      <td>...</td>\n",
       "      <td>...</td>\n",
       "      <td>...</td>\n",
       "      <td>...</td>\n",
       "      <td>...</td>\n",
       "      <td>...</td>\n",
       "      <td>...</td>\n",
       "      <td>...</td>\n",
       "      <td>...</td>\n",
       "      <td>...</td>\n",
       "    </tr>\n",
       "    <tr>\n",
       "      <th>685</th>\n",
       "      <td>1</td>\n",
       "      <td>21.08</td>\n",
       "      <td>10.085</td>\n",
       "      <td>0</td>\n",
       "      <td>0</td>\n",
       "      <td>Education</td>\n",
       "      <td>Black</td>\n",
       "      <td>1.25</td>\n",
       "      <td>0</td>\n",
       "      <td>0</td>\n",
       "      <td>0</td>\n",
       "      <td>0</td>\n",
       "      <td>ByBirth</td>\n",
       "      <td>260</td>\n",
       "      <td>0</td>\n",
       "      <td>0</td>\n",
       "    </tr>\n",
       "    <tr>\n",
       "      <th>686</th>\n",
       "      <td>0</td>\n",
       "      <td>22.67</td>\n",
       "      <td>0.750</td>\n",
       "      <td>1</td>\n",
       "      <td>1</td>\n",
       "      <td>Energy</td>\n",
       "      <td>White</td>\n",
       "      <td>2.00</td>\n",
       "      <td>0</td>\n",
       "      <td>1</td>\n",
       "      <td>2</td>\n",
       "      <td>1</td>\n",
       "      <td>ByBirth</td>\n",
       "      <td>200</td>\n",
       "      <td>394</td>\n",
       "      <td>0</td>\n",
       "    </tr>\n",
       "    <tr>\n",
       "      <th>687</th>\n",
       "      <td>0</td>\n",
       "      <td>25.25</td>\n",
       "      <td>13.500</td>\n",
       "      <td>0</td>\n",
       "      <td>0</td>\n",
       "      <td>Healthcare</td>\n",
       "      <td>Latino</td>\n",
       "      <td>2.00</td>\n",
       "      <td>0</td>\n",
       "      <td>1</td>\n",
       "      <td>1</td>\n",
       "      <td>1</td>\n",
       "      <td>ByBirth</td>\n",
       "      <td>200</td>\n",
       "      <td>1</td>\n",
       "      <td>0</td>\n",
       "    </tr>\n",
       "    <tr>\n",
       "      <th>688</th>\n",
       "      <td>1</td>\n",
       "      <td>17.92</td>\n",
       "      <td>0.205</td>\n",
       "      <td>1</td>\n",
       "      <td>1</td>\n",
       "      <td>ConsumerStaples</td>\n",
       "      <td>White</td>\n",
       "      <td>0.04</td>\n",
       "      <td>0</td>\n",
       "      <td>0</td>\n",
       "      <td>0</td>\n",
       "      <td>0</td>\n",
       "      <td>ByBirth</td>\n",
       "      <td>280</td>\n",
       "      <td>750</td>\n",
       "      <td>0</td>\n",
       "    </tr>\n",
       "    <tr>\n",
       "      <th>689</th>\n",
       "      <td>1</td>\n",
       "      <td>35.00</td>\n",
       "      <td>3.375</td>\n",
       "      <td>1</td>\n",
       "      <td>1</td>\n",
       "      <td>Energy</td>\n",
       "      <td>Black</td>\n",
       "      <td>8.29</td>\n",
       "      <td>0</td>\n",
       "      <td>0</td>\n",
       "      <td>0</td>\n",
       "      <td>1</td>\n",
       "      <td>ByBirth</td>\n",
       "      <td>0</td>\n",
       "      <td>0</td>\n",
       "      <td>0</td>\n",
       "    </tr>\n",
       "  </tbody>\n",
       "</table>\n",
       "<p>690 rows × 16 columns</p>\n",
       "</div>"
      ],
      "text/plain": [
       "     Gender    Age    Debt  Married  BankCustomer         Industry Ethnicity  \\\n",
       "0         1  30.83   0.000        1             1      Industrials     White   \n",
       "1         0  58.67   4.460        1             1        Materials     Black   \n",
       "2         0  24.50   0.500        1             1        Materials     Black   \n",
       "3         1  27.83   1.540        1             1      Industrials     White   \n",
       "4         1  20.17   5.625        1             1      Industrials     White   \n",
       "..      ...    ...     ...      ...           ...              ...       ...   \n",
       "685       1  21.08  10.085        0             0        Education     Black   \n",
       "686       0  22.67   0.750        1             1           Energy     White   \n",
       "687       0  25.25  13.500        0             0       Healthcare    Latino   \n",
       "688       1  17.92   0.205        1             1  ConsumerStaples     White   \n",
       "689       1  35.00   3.375        1             1           Energy     Black   \n",
       "\n",
       "     YearsEmployed  PriorDefault  Employed  CreditScore  DriversLicense  \\\n",
       "0             1.25             1         1            1               0   \n",
       "1             3.04             1         1            6               0   \n",
       "2             1.50             1         0            0               0   \n",
       "3             3.75             1         1            5               1   \n",
       "4             1.71             1         0            0               0   \n",
       "..             ...           ...       ...          ...             ...   \n",
       "685           1.25             0         0            0               0   \n",
       "686           2.00             0         1            2               1   \n",
       "687           2.00             0         1            1               1   \n",
       "688           0.04             0         0            0               0   \n",
       "689           8.29             0         0            0               1   \n",
       "\n",
       "          Citizen  ZipCode  Income  Approved  \n",
       "0         ByBirth      202       0         1  \n",
       "1         ByBirth       43     560         1  \n",
       "2         ByBirth      280     824         1  \n",
       "3         ByBirth      100       3         1  \n",
       "4    ByOtherMeans      120       0         1  \n",
       "..            ...      ...     ...       ...  \n",
       "685       ByBirth      260       0         0  \n",
       "686       ByBirth      200     394         0  \n",
       "687       ByBirth      200       1         0  \n",
       "688       ByBirth      280     750         0  \n",
       "689       ByBirth        0       0         0  \n",
       "\n",
       "[690 rows x 16 columns]"
      ]
     },
     "execution_count": 76,
     "metadata": {},
     "output_type": "execute_result"
    }
   ],
   "source": [
    "df = pd.read_csv(\"D:\\ML mini project\\credict card approval\\clean_dataset.csv\")\n",
    "df"
   ]
  },
  {
   "cell_type": "code",
   "execution_count": 77,
   "id": "ce877d1b",
   "metadata": {
    "execution": {
     "iopub.execute_input": "2024-06-17T16:19:00.721441Z",
     "iopub.status.busy": "2024-06-17T16:19:00.720373Z",
     "iopub.status.idle": "2024-06-17T16:19:00.740351Z",
     "shell.execute_reply": "2024-06-17T16:19:00.739281Z"
    },
    "papermill": {
     "duration": 0.047053,
     "end_time": "2024-06-17T16:19:00.743092",
     "exception": false,
     "start_time": "2024-06-17T16:19:00.696039",
     "status": "completed"
    },
    "tags": []
   },
   "outputs": [
    {
     "data": {
      "text/html": [
       "<div>\n",
       "<style scoped>\n",
       "    .dataframe tbody tr th:only-of-type {\n",
       "        vertical-align: middle;\n",
       "    }\n",
       "\n",
       "    .dataframe tbody tr th {\n",
       "        vertical-align: top;\n",
       "    }\n",
       "\n",
       "    .dataframe thead th {\n",
       "        text-align: right;\n",
       "    }\n",
       "</style>\n",
       "<table border=\"1\" class=\"dataframe\">\n",
       "  <thead>\n",
       "    <tr style=\"text-align: right;\">\n",
       "      <th></th>\n",
       "      <th>Gender</th>\n",
       "      <th>Age</th>\n",
       "      <th>Debt</th>\n",
       "      <th>Married</th>\n",
       "      <th>BankCustomer</th>\n",
       "      <th>Industry</th>\n",
       "      <th>Ethnicity</th>\n",
       "      <th>YearsEmployed</th>\n",
       "      <th>PriorDefault</th>\n",
       "      <th>Employed</th>\n",
       "      <th>CreditScore</th>\n",
       "      <th>DriversLicense</th>\n",
       "      <th>Citizen</th>\n",
       "      <th>ZipCode</th>\n",
       "      <th>Income</th>\n",
       "      <th>Approved</th>\n",
       "    </tr>\n",
       "  </thead>\n",
       "  <tbody>\n",
       "    <tr>\n",
       "      <th>0</th>\n",
       "      <td>1</td>\n",
       "      <td>30.83</td>\n",
       "      <td>0.000</td>\n",
       "      <td>1</td>\n",
       "      <td>1</td>\n",
       "      <td>Industrials</td>\n",
       "      <td>White</td>\n",
       "      <td>1.25</td>\n",
       "      <td>1</td>\n",
       "      <td>1</td>\n",
       "      <td>1</td>\n",
       "      <td>0</td>\n",
       "      <td>ByBirth</td>\n",
       "      <td>202</td>\n",
       "      <td>0</td>\n",
       "      <td>1</td>\n",
       "    </tr>\n",
       "    <tr>\n",
       "      <th>1</th>\n",
       "      <td>0</td>\n",
       "      <td>58.67</td>\n",
       "      <td>4.460</td>\n",
       "      <td>1</td>\n",
       "      <td>1</td>\n",
       "      <td>Materials</td>\n",
       "      <td>Black</td>\n",
       "      <td>3.04</td>\n",
       "      <td>1</td>\n",
       "      <td>1</td>\n",
       "      <td>6</td>\n",
       "      <td>0</td>\n",
       "      <td>ByBirth</td>\n",
       "      <td>43</td>\n",
       "      <td>560</td>\n",
       "      <td>1</td>\n",
       "    </tr>\n",
       "    <tr>\n",
       "      <th>2</th>\n",
       "      <td>0</td>\n",
       "      <td>24.50</td>\n",
       "      <td>0.500</td>\n",
       "      <td>1</td>\n",
       "      <td>1</td>\n",
       "      <td>Materials</td>\n",
       "      <td>Black</td>\n",
       "      <td>1.50</td>\n",
       "      <td>1</td>\n",
       "      <td>0</td>\n",
       "      <td>0</td>\n",
       "      <td>0</td>\n",
       "      <td>ByBirth</td>\n",
       "      <td>280</td>\n",
       "      <td>824</td>\n",
       "      <td>1</td>\n",
       "    </tr>\n",
       "    <tr>\n",
       "      <th>3</th>\n",
       "      <td>1</td>\n",
       "      <td>27.83</td>\n",
       "      <td>1.540</td>\n",
       "      <td>1</td>\n",
       "      <td>1</td>\n",
       "      <td>Industrials</td>\n",
       "      <td>White</td>\n",
       "      <td>3.75</td>\n",
       "      <td>1</td>\n",
       "      <td>1</td>\n",
       "      <td>5</td>\n",
       "      <td>1</td>\n",
       "      <td>ByBirth</td>\n",
       "      <td>100</td>\n",
       "      <td>3</td>\n",
       "      <td>1</td>\n",
       "    </tr>\n",
       "    <tr>\n",
       "      <th>4</th>\n",
       "      <td>1</td>\n",
       "      <td>20.17</td>\n",
       "      <td>5.625</td>\n",
       "      <td>1</td>\n",
       "      <td>1</td>\n",
       "      <td>Industrials</td>\n",
       "      <td>White</td>\n",
       "      <td>1.71</td>\n",
       "      <td>1</td>\n",
       "      <td>0</td>\n",
       "      <td>0</td>\n",
       "      <td>0</td>\n",
       "      <td>ByOtherMeans</td>\n",
       "      <td>120</td>\n",
       "      <td>0</td>\n",
       "      <td>1</td>\n",
       "    </tr>\n",
       "  </tbody>\n",
       "</table>\n",
       "</div>"
      ],
      "text/plain": [
       "   Gender    Age   Debt  Married  BankCustomer     Industry Ethnicity  \\\n",
       "0       1  30.83  0.000        1             1  Industrials     White   \n",
       "1       0  58.67  4.460        1             1    Materials     Black   \n",
       "2       0  24.50  0.500        1             1    Materials     Black   \n",
       "3       1  27.83  1.540        1             1  Industrials     White   \n",
       "4       1  20.17  5.625        1             1  Industrials     White   \n",
       "\n",
       "   YearsEmployed  PriorDefault  Employed  CreditScore  DriversLicense  \\\n",
       "0           1.25             1         1            1               0   \n",
       "1           3.04             1         1            6               0   \n",
       "2           1.50             1         0            0               0   \n",
       "3           3.75             1         1            5               1   \n",
       "4           1.71             1         0            0               0   \n",
       "\n",
       "        Citizen  ZipCode  Income  Approved  \n",
       "0       ByBirth      202       0         1  \n",
       "1       ByBirth       43     560         1  \n",
       "2       ByBirth      280     824         1  \n",
       "3       ByBirth      100       3         1  \n",
       "4  ByOtherMeans      120       0         1  "
      ]
     },
     "execution_count": 77,
     "metadata": {},
     "output_type": "execute_result"
    }
   ],
   "source": [
    "df.head()"
   ]
  },
  {
   "cell_type": "code",
   "execution_count": 78,
   "id": "acd83c72",
   "metadata": {
    "execution": {
     "iopub.execute_input": "2024-06-17T16:19:00.788782Z",
     "iopub.status.busy": "2024-06-17T16:19:00.788325Z",
     "iopub.status.idle": "2024-06-17T16:19:00.813568Z",
     "shell.execute_reply": "2024-06-17T16:19:00.812333Z"
    },
    "papermill": {
     "duration": 0.049906,
     "end_time": "2024-06-17T16:19:00.817680",
     "exception": false,
     "start_time": "2024-06-17T16:19:00.767774",
     "status": "completed"
    },
    "tags": []
   },
   "outputs": [
    {
     "name": "stdout",
     "output_type": "stream",
     "text": [
      "<class 'pandas.core.frame.DataFrame'>\n",
      "RangeIndex: 690 entries, 0 to 689\n",
      "Data columns (total 16 columns):\n",
      " #   Column          Non-Null Count  Dtype  \n",
      "---  ------          --------------  -----  \n",
      " 0   Gender          690 non-null    int64  \n",
      " 1   Age             690 non-null    float64\n",
      " 2   Debt            690 non-null    float64\n",
      " 3   Married         690 non-null    int64  \n",
      " 4   BankCustomer    690 non-null    int64  \n",
      " 5   Industry        690 non-null    object \n",
      " 6   Ethnicity       690 non-null    object \n",
      " 7   YearsEmployed   690 non-null    float64\n",
      " 8   PriorDefault    690 non-null    int64  \n",
      " 9   Employed        690 non-null    int64  \n",
      " 10  CreditScore     690 non-null    int64  \n",
      " 11  DriversLicense  690 non-null    int64  \n",
      " 12  Citizen         690 non-null    object \n",
      " 13  ZipCode         690 non-null    int64  \n",
      " 14  Income          690 non-null    int64  \n",
      " 15  Approved        690 non-null    int64  \n",
      "dtypes: float64(3), int64(10), object(3)\n",
      "memory usage: 86.4+ KB\n"
     ]
    }
   ],
   "source": [
    "df.info()"
   ]
  },
  {
   "cell_type": "code",
   "execution_count": 79,
   "id": "f9977a9e",
   "metadata": {
    "execution": {
     "iopub.execute_input": "2024-06-17T16:19:00.896854Z",
     "iopub.status.busy": "2024-06-17T16:19:00.896422Z",
     "iopub.status.idle": "2024-06-17T16:19:00.951712Z",
     "shell.execute_reply": "2024-06-17T16:19:00.950540Z"
    },
    "papermill": {
     "duration": 0.077381,
     "end_time": "2024-06-17T16:19:00.954319",
     "exception": false,
     "start_time": "2024-06-17T16:19:00.876938",
     "status": "completed"
    },
    "tags": []
   },
   "outputs": [
    {
     "data": {
      "text/html": [
       "<div>\n",
       "<style scoped>\n",
       "    .dataframe tbody tr th:only-of-type {\n",
       "        vertical-align: middle;\n",
       "    }\n",
       "\n",
       "    .dataframe tbody tr th {\n",
       "        vertical-align: top;\n",
       "    }\n",
       "\n",
       "    .dataframe thead th {\n",
       "        text-align: right;\n",
       "    }\n",
       "</style>\n",
       "<table border=\"1\" class=\"dataframe\">\n",
       "  <thead>\n",
       "    <tr style=\"text-align: right;\">\n",
       "      <th></th>\n",
       "      <th>Gender</th>\n",
       "      <th>Age</th>\n",
       "      <th>Debt</th>\n",
       "      <th>Married</th>\n",
       "      <th>BankCustomer</th>\n",
       "      <th>YearsEmployed</th>\n",
       "      <th>PriorDefault</th>\n",
       "      <th>Employed</th>\n",
       "      <th>CreditScore</th>\n",
       "      <th>DriversLicense</th>\n",
       "      <th>ZipCode</th>\n",
       "      <th>Income</th>\n",
       "      <th>Approved</th>\n",
       "    </tr>\n",
       "  </thead>\n",
       "  <tbody>\n",
       "    <tr>\n",
       "      <th>count</th>\n",
       "      <td>690.000000</td>\n",
       "      <td>690.000000</td>\n",
       "      <td>690.000000</td>\n",
       "      <td>690.000000</td>\n",
       "      <td>690.000000</td>\n",
       "      <td>690.000000</td>\n",
       "      <td>690.000000</td>\n",
       "      <td>690.000000</td>\n",
       "      <td>690.00000</td>\n",
       "      <td>690.000000</td>\n",
       "      <td>690.000000</td>\n",
       "      <td>690.000000</td>\n",
       "      <td>690.000000</td>\n",
       "    </tr>\n",
       "    <tr>\n",
       "      <th>mean</th>\n",
       "      <td>0.695652</td>\n",
       "      <td>31.514116</td>\n",
       "      <td>4.758725</td>\n",
       "      <td>0.760870</td>\n",
       "      <td>0.763768</td>\n",
       "      <td>2.223406</td>\n",
       "      <td>0.523188</td>\n",
       "      <td>0.427536</td>\n",
       "      <td>2.40000</td>\n",
       "      <td>0.457971</td>\n",
       "      <td>180.547826</td>\n",
       "      <td>1017.385507</td>\n",
       "      <td>0.444928</td>\n",
       "    </tr>\n",
       "    <tr>\n",
       "      <th>std</th>\n",
       "      <td>0.460464</td>\n",
       "      <td>11.860245</td>\n",
       "      <td>4.978163</td>\n",
       "      <td>0.426862</td>\n",
       "      <td>0.425074</td>\n",
       "      <td>3.346513</td>\n",
       "      <td>0.499824</td>\n",
       "      <td>0.495080</td>\n",
       "      <td>4.86294</td>\n",
       "      <td>0.498592</td>\n",
       "      <td>173.970323</td>\n",
       "      <td>5210.102598</td>\n",
       "      <td>0.497318</td>\n",
       "    </tr>\n",
       "    <tr>\n",
       "      <th>min</th>\n",
       "      <td>0.000000</td>\n",
       "      <td>13.750000</td>\n",
       "      <td>0.000000</td>\n",
       "      <td>0.000000</td>\n",
       "      <td>0.000000</td>\n",
       "      <td>0.000000</td>\n",
       "      <td>0.000000</td>\n",
       "      <td>0.000000</td>\n",
       "      <td>0.00000</td>\n",
       "      <td>0.000000</td>\n",
       "      <td>0.000000</td>\n",
       "      <td>0.000000</td>\n",
       "      <td>0.000000</td>\n",
       "    </tr>\n",
       "    <tr>\n",
       "      <th>25%</th>\n",
       "      <td>0.000000</td>\n",
       "      <td>22.670000</td>\n",
       "      <td>1.000000</td>\n",
       "      <td>1.000000</td>\n",
       "      <td>1.000000</td>\n",
       "      <td>0.165000</td>\n",
       "      <td>0.000000</td>\n",
       "      <td>0.000000</td>\n",
       "      <td>0.00000</td>\n",
       "      <td>0.000000</td>\n",
       "      <td>60.000000</td>\n",
       "      <td>0.000000</td>\n",
       "      <td>0.000000</td>\n",
       "    </tr>\n",
       "    <tr>\n",
       "      <th>50%</th>\n",
       "      <td>1.000000</td>\n",
       "      <td>28.460000</td>\n",
       "      <td>2.750000</td>\n",
       "      <td>1.000000</td>\n",
       "      <td>1.000000</td>\n",
       "      <td>1.000000</td>\n",
       "      <td>1.000000</td>\n",
       "      <td>0.000000</td>\n",
       "      <td>0.00000</td>\n",
       "      <td>0.000000</td>\n",
       "      <td>160.000000</td>\n",
       "      <td>5.000000</td>\n",
       "      <td>0.000000</td>\n",
       "    </tr>\n",
       "    <tr>\n",
       "      <th>75%</th>\n",
       "      <td>1.000000</td>\n",
       "      <td>37.707500</td>\n",
       "      <td>7.207500</td>\n",
       "      <td>1.000000</td>\n",
       "      <td>1.000000</td>\n",
       "      <td>2.625000</td>\n",
       "      <td>1.000000</td>\n",
       "      <td>1.000000</td>\n",
       "      <td>3.00000</td>\n",
       "      <td>1.000000</td>\n",
       "      <td>272.000000</td>\n",
       "      <td>395.500000</td>\n",
       "      <td>1.000000</td>\n",
       "    </tr>\n",
       "    <tr>\n",
       "      <th>max</th>\n",
       "      <td>1.000000</td>\n",
       "      <td>80.250000</td>\n",
       "      <td>28.000000</td>\n",
       "      <td>1.000000</td>\n",
       "      <td>1.000000</td>\n",
       "      <td>28.500000</td>\n",
       "      <td>1.000000</td>\n",
       "      <td>1.000000</td>\n",
       "      <td>67.00000</td>\n",
       "      <td>1.000000</td>\n",
       "      <td>2000.000000</td>\n",
       "      <td>100000.000000</td>\n",
       "      <td>1.000000</td>\n",
       "    </tr>\n",
       "  </tbody>\n",
       "</table>\n",
       "</div>"
      ],
      "text/plain": [
       "           Gender         Age        Debt     Married  BankCustomer  \\\n",
       "count  690.000000  690.000000  690.000000  690.000000    690.000000   \n",
       "mean     0.695652   31.514116    4.758725    0.760870      0.763768   \n",
       "std      0.460464   11.860245    4.978163    0.426862      0.425074   \n",
       "min      0.000000   13.750000    0.000000    0.000000      0.000000   \n",
       "25%      0.000000   22.670000    1.000000    1.000000      1.000000   \n",
       "50%      1.000000   28.460000    2.750000    1.000000      1.000000   \n",
       "75%      1.000000   37.707500    7.207500    1.000000      1.000000   \n",
       "max      1.000000   80.250000   28.000000    1.000000      1.000000   \n",
       "\n",
       "       YearsEmployed  PriorDefault    Employed  CreditScore  DriversLicense  \\\n",
       "count     690.000000    690.000000  690.000000    690.00000      690.000000   \n",
       "mean        2.223406      0.523188    0.427536      2.40000        0.457971   \n",
       "std         3.346513      0.499824    0.495080      4.86294        0.498592   \n",
       "min         0.000000      0.000000    0.000000      0.00000        0.000000   \n",
       "25%         0.165000      0.000000    0.000000      0.00000        0.000000   \n",
       "50%         1.000000      1.000000    0.000000      0.00000        0.000000   \n",
       "75%         2.625000      1.000000    1.000000      3.00000        1.000000   \n",
       "max        28.500000      1.000000    1.000000     67.00000        1.000000   \n",
       "\n",
       "           ZipCode         Income    Approved  \n",
       "count   690.000000     690.000000  690.000000  \n",
       "mean    180.547826    1017.385507    0.444928  \n",
       "std     173.970323    5210.102598    0.497318  \n",
       "min       0.000000       0.000000    0.000000  \n",
       "25%      60.000000       0.000000    0.000000  \n",
       "50%     160.000000       5.000000    0.000000  \n",
       "75%     272.000000     395.500000    1.000000  \n",
       "max    2000.000000  100000.000000    1.000000  "
      ]
     },
     "execution_count": 79,
     "metadata": {},
     "output_type": "execute_result"
    }
   ],
   "source": [
    "df.describe()"
   ]
  },
  {
   "cell_type": "code",
   "execution_count": 80,
   "id": "143ce214",
   "metadata": {
    "execution": {
     "iopub.execute_input": "2024-06-17T16:19:01.001677Z",
     "iopub.status.busy": "2024-06-17T16:19:01.001280Z",
     "iopub.status.idle": "2024-06-17T16:19:01.019942Z",
     "shell.execute_reply": "2024-06-17T16:19:01.018823Z"
    },
    "papermill": {
     "duration": 0.048903,
     "end_time": "2024-06-17T16:19:01.022372",
     "exception": false,
     "start_time": "2024-06-17T16:19:00.973469",
     "status": "completed"
    },
    "tags": []
   },
   "outputs": [
    {
     "data": {
      "text/html": [
       "<div>\n",
       "<style scoped>\n",
       "    .dataframe tbody tr th:only-of-type {\n",
       "        vertical-align: middle;\n",
       "    }\n",
       "\n",
       "    .dataframe tbody tr th {\n",
       "        vertical-align: top;\n",
       "    }\n",
       "\n",
       "    .dataframe thead th {\n",
       "        text-align: right;\n",
       "    }\n",
       "</style>\n",
       "<table border=\"1\" class=\"dataframe\">\n",
       "  <thead>\n",
       "    <tr style=\"text-align: right;\">\n",
       "      <th></th>\n",
       "      <th>Industry</th>\n",
       "      <th>Ethnicity</th>\n",
       "      <th>Citizen</th>\n",
       "    </tr>\n",
       "  </thead>\n",
       "  <tbody>\n",
       "    <tr>\n",
       "      <th>count</th>\n",
       "      <td>690</td>\n",
       "      <td>690</td>\n",
       "      <td>690</td>\n",
       "    </tr>\n",
       "    <tr>\n",
       "      <th>unique</th>\n",
       "      <td>14</td>\n",
       "      <td>5</td>\n",
       "      <td>3</td>\n",
       "    </tr>\n",
       "    <tr>\n",
       "      <th>top</th>\n",
       "      <td>Energy</td>\n",
       "      <td>White</td>\n",
       "      <td>ByBirth</td>\n",
       "    </tr>\n",
       "    <tr>\n",
       "      <th>freq</th>\n",
       "      <td>146</td>\n",
       "      <td>408</td>\n",
       "      <td>625</td>\n",
       "    </tr>\n",
       "  </tbody>\n",
       "</table>\n",
       "</div>"
      ],
      "text/plain": [
       "       Industry Ethnicity  Citizen\n",
       "count       690       690      690\n",
       "unique       14         5        3\n",
       "top      Energy     White  ByBirth\n",
       "freq        146       408      625"
      ]
     },
     "execution_count": 80,
     "metadata": {},
     "output_type": "execute_result"
    }
   ],
   "source": [
    "df.describe(include='object')"
   ]
  },
  {
   "cell_type": "code",
   "execution_count": 81,
   "id": "f7f3f983",
   "metadata": {
    "execution": {
     "iopub.execute_input": "2024-06-17T16:19:01.062902Z",
     "iopub.status.busy": "2024-06-17T16:19:01.061845Z",
     "iopub.status.idle": "2024-06-17T16:19:01.072364Z",
     "shell.execute_reply": "2024-06-17T16:19:01.071226Z"
    },
    "papermill": {
     "duration": 0.03294,
     "end_time": "2024-06-17T16:19:01.074640",
     "exception": false,
     "start_time": "2024-06-17T16:19:01.041700",
     "status": "completed"
    },
    "tags": []
   },
   "outputs": [
    {
     "data": {
      "text/plain": [
       "Gender            0\n",
       "Age               0\n",
       "Debt              0\n",
       "Married           0\n",
       "BankCustomer      0\n",
       "Industry          0\n",
       "Ethnicity         0\n",
       "YearsEmployed     0\n",
       "PriorDefault      0\n",
       "Employed          0\n",
       "CreditScore       0\n",
       "DriversLicense    0\n",
       "Citizen           0\n",
       "ZipCode           0\n",
       "Income            0\n",
       "Approved          0\n",
       "dtype: int64"
      ]
     },
     "execution_count": 81,
     "metadata": {},
     "output_type": "execute_result"
    }
   ],
   "source": [
    "df.isnull().sum()"
   ]
  },
  {
   "cell_type": "markdown",
   "id": "f0b7dc02",
   "metadata": {
    "papermill": {
     "duration": 0.024327,
     "end_time": "2024-06-17T16:19:06.152320",
     "exception": false,
     "start_time": "2024-06-17T16:19:06.127993",
     "status": "completed"
    },
    "tags": []
   },
   "source": [
    "# Preprocessing"
   ]
  },
  {
   "cell_type": "markdown",
   "id": "15adfaa3",
   "metadata": {
    "papermill": {
     "duration": 0.082903,
     "end_time": "2024-06-17T16:19:06.259536",
     "exception": false,
     "start_time": "2024-06-17T16:19:06.176633",
     "status": "completed"
    },
    "tags": []
   },
   "source": [
    "**handling outliers**\n",
    "Outliers impact negative to our results"
   ]
  },
  {
   "cell_type": "code",
   "execution_count": 82,
   "id": "1bae7f17",
   "metadata": {
    "execution": {
     "iopub.execute_input": "2024-06-17T16:19:06.311272Z",
     "iopub.status.busy": "2024-06-17T16:19:06.310872Z",
     "iopub.status.idle": "2024-06-17T16:19:06.871375Z",
     "shell.execute_reply": "2024-06-17T16:19:06.870283Z"
    },
    "papermill": {
     "duration": 0.589337,
     "end_time": "2024-06-17T16:19:06.873877",
     "exception": false,
     "start_time": "2024-06-17T16:19:06.284540",
     "status": "completed"
    },
    "tags": []
   },
   "outputs": [
    {
     "data": {
      "text/plain": [
       "<seaborn.axisgrid.FacetGrid at 0x1eee6597b30>"
      ]
     },
     "execution_count": 82,
     "metadata": {},
     "output_type": "execute_result"
    },
    {
     "data": {
      "image/png": "[encoded data removed]",
      "text/plain": [
       "<Figure size 577.986x500 with 1 Axes>"
      ]
     },
     "metadata": {},
     "output_type": "display_data"
    }
   ],
   "source": [
    "sns.displot(df,x='Age',hue='Approved')"
   ]
  },
  {
   "cell_type": "code",
   "execution_count": 83,
   "id": "72124da7",
   "metadata": {
    "execution": {
     "iopub.execute_input": "2024-06-17T16:19:06.927105Z",
     "iopub.status.busy": "2024-06-17T16:19:06.926673Z",
     "iopub.status.idle": "2024-06-17T16:19:06.934205Z",
     "shell.execute_reply": "2024-06-17T16:19:06.933145Z"
    },
    "papermill": {
     "duration": 0.036986,
     "end_time": "2024-06-17T16:19:06.936513",
     "exception": false,
     "start_time": "2024-06-17T16:19:06.899527",
     "status": "completed"
    },
    "tags": []
   },
   "outputs": [],
   "source": [
    "df['Age'] = df['Age'].clip(upper=65)"
   ]
  },
  {
   "cell_type": "code",
   "execution_count": 84,
   "id": "a16b2f00",
   "metadata": {
    "execution": {
     "iopub.execute_input": "2024-06-17T16:19:06.990076Z",
     "iopub.status.busy": "2024-06-17T16:19:06.989654Z",
     "iopub.status.idle": "2024-06-17T16:19:07.577481Z",
     "shell.execute_reply": "2024-06-17T16:19:07.576243Z"
    },
    "papermill": {
     "duration": 0.617536,
     "end_time": "2024-06-17T16:19:07.579932",
     "exception": false,
     "start_time": "2024-06-17T16:19:06.962396",
     "status": "completed"
    },
    "tags": []
   },
   "outputs": [
    {
     "data": {
      "text/plain": [
       "<seaborn.axisgrid.FacetGrid at 0x1eee83a4110>"
      ]
     },
     "execution_count": 84,
     "metadata": {},
     "output_type": "execute_result"
    },
    {
     "data": {
      "image/png": "[encoded data removed]",
      "text/plain": [
       "<Figure size 577.986x500 with 1 Axes>"
      ]
     },
     "metadata": {},
     "output_type": "display_data"
    }
   ],
   "source": [
    "sns.displot(df,x='Debt',hue='Approved')"
   ]
  },
  {
   "cell_type": "code",
   "execution_count": 85,
   "id": "801051ca",
   "metadata": {
    "execution": {
     "iopub.execute_input": "2024-06-17T16:19:07.635139Z",
     "iopub.status.busy": "2024-06-17T16:19:07.634438Z",
     "iopub.status.idle": "2024-06-17T16:19:07.641608Z",
     "shell.execute_reply": "2024-06-17T16:19:07.640397Z"
    },
    "papermill": {
     "duration": 0.03737,
     "end_time": "2024-06-17T16:19:07.644410",
     "exception": false,
     "start_time": "2024-06-17T16:19:07.607040",
     "status": "completed"
    },
    "tags": []
   },
   "outputs": [],
   "source": [
    "df['Debt'] = df['Debt'].clip(upper=15)"
   ]
  },
  {
   "cell_type": "code",
   "execution_count": 86,
   "id": "bab6955c",
   "metadata": {
    "execution": {
     "iopub.execute_input": "2024-06-17T16:19:07.699592Z",
     "iopub.status.busy": "2024-06-17T16:19:07.699178Z",
     "iopub.status.idle": "2024-06-17T16:19:08.373664Z",
     "shell.execute_reply": "2024-06-17T16:19:08.372537Z"
    },
    "papermill": {
     "duration": 0.70509,
     "end_time": "2024-06-17T16:19:08.376156",
     "exception": false,
     "start_time": "2024-06-17T16:19:07.671066",
     "status": "completed"
    },
    "tags": []
   },
   "outputs": [
    {
     "data": {
      "text/plain": [
       "<seaborn.axisgrid.FacetGrid at 0x1eeeb071640>"
      ]
     },
     "execution_count": 86,
     "metadata": {},
     "output_type": "execute_result"
    },
    {
     "data": {
      "image/png": "[encoded data removed]",
      "text/plain": [
       "<Figure size 577.986x500 with 1 Axes>"
      ]
     },
     "metadata": {},
     "output_type": "display_data"
    }
   ],
   "source": [
    "sns.displot(df,x='Debt',hue='Approved')"
   ]
  },
  {
   "cell_type": "code",
   "execution_count": 87,
   "id": "48acc3b4",
   "metadata": {
    "execution": {
     "iopub.execute_input": "2024-06-17T16:19:08.432156Z",
     "iopub.status.busy": "2024-06-17T16:19:08.431716Z",
     "iopub.status.idle": "2024-06-17T16:19:09.208964Z",
     "shell.execute_reply": "2024-06-17T16:19:09.207795Z"
    },
    "papermill": {
     "duration": 0.80855,
     "end_time": "2024-06-17T16:19:09.211530",
     "exception": false,
     "start_time": "2024-06-17T16:19:08.402980",
     "status": "completed"
    },
    "tags": []
   },
   "outputs": [
    {
     "data": {
      "text/plain": [
       "<seaborn.axisgrid.FacetGrid at 0x1eeeb1e9190>"
      ]
     },
     "execution_count": 87,
     "metadata": {},
     "output_type": "execute_result"
    },
    {
     "data": {
      "image/png": "[encoded data removed]",
      "text/plain": [
       "<Figure size 577.986x500 with 1 Axes>"
      ]
     },
     "metadata": {},
     "output_type": "display_data"
    }
   ],
   "source": [
    "sns.displot(df,x='YearsEmployed',hue='Approved')"
   ]
  },
  {
   "cell_type": "code",
   "execution_count": 88,
   "id": "d0ac87fc",
   "metadata": {
    "execution": {
     "iopub.execute_input": "2024-06-17T16:19:09.268481Z",
     "iopub.status.busy": "2024-06-17T16:19:09.268020Z",
     "iopub.status.idle": "2024-06-17T16:19:09.274929Z",
     "shell.execute_reply": "2024-06-17T16:19:09.273940Z"
    },
    "papermill": {
     "duration": 0.038386,
     "end_time": "2024-06-17T16:19:09.277310",
     "exception": false,
     "start_time": "2024-06-17T16:19:09.238924",
     "status": "completed"
    },
    "tags": []
   },
   "outputs": [],
   "source": [
    "df['YearsEmployed']=df['YearsEmployed'].clip(upper=10)"
   ]
  },
  {
   "cell_type": "code",
   "execution_count": 89,
   "id": "ba8f2924",
   "metadata": {
    "execution": {
     "iopub.execute_input": "2024-06-17T16:19:09.333397Z",
     "iopub.status.busy": "2024-06-17T16:19:09.332925Z",
     "iopub.status.idle": "2024-06-17T16:19:09.985860Z",
     "shell.execute_reply": "2024-06-17T16:19:09.984799Z"
    },
    "papermill": {
     "duration": 0.683671,
     "end_time": "2024-06-17T16:19:09.988222",
     "exception": false,
     "start_time": "2024-06-17T16:19:09.304551",
     "status": "completed"
    },
    "tags": []
   },
   "outputs": [
    {
     "data": {
      "text/plain": [
       "<seaborn.axisgrid.FacetGrid at 0x1eeeb43d670>"
      ]
     },
     "execution_count": 89,
     "metadata": {},
     "output_type": "execute_result"
    },
    {
     "data": {
      "image/png": "[encoded data removed]",
      "text/plain": [
       "<Figure size 577.986x500 with 1 Axes>"
      ]
     },
     "metadata": {},
     "output_type": "display_data"
    }
   ],
   "source": [
    "sns.displot(df,x='YearsEmployed',hue='Approved')"
   ]
  },
  {
   "cell_type": "code",
   "execution_count": 90,
   "id": "e66c2499",
   "metadata": {
    "execution": {
     "iopub.execute_input": "2024-06-17T16:19:10.045243Z",
     "iopub.status.busy": "2024-06-17T16:19:10.044448Z",
     "iopub.status.idle": "2024-06-17T16:19:11.145383Z",
     "shell.execute_reply": "2024-06-17T16:19:11.144250Z"
    },
    "papermill": {
     "duration": 1.132363,
     "end_time": "2024-06-17T16:19:11.148095",
     "exception": false,
     "start_time": "2024-06-17T16:19:10.015732",
     "status": "completed"
    },
    "tags": []
   },
   "outputs": [
    {
     "data": {
      "text/plain": [
       "<seaborn.axisgrid.FacetGrid at 0x1eeeb61d5e0>"
      ]
     },
     "execution_count": 90,
     "metadata": {},
     "output_type": "execute_result"
    },
    {
     "data": {
      "image/png": "[encoded data removed]",
      "text/plain": [
       "<Figure size 577.986x500 with 1 Axes>"
      ]
     },
     "metadata": {},
     "output_type": "display_data"
    }
   ],
   "source": [
    "sns.displot(df,x='CreditScore',hue='Approved')"
   ]
  },
  {
   "cell_type": "code",
   "execution_count": 91,
   "id": "fb68c1b1",
   "metadata": {
    "execution": {
     "iopub.execute_input": "2024-06-17T16:19:11.211285Z",
     "iopub.status.busy": "2024-06-17T16:19:11.210899Z",
     "iopub.status.idle": "2024-06-17T16:19:12.012335Z",
     "shell.execute_reply": "2024-06-17T16:19:12.011177Z"
    },
    "papermill": {
     "duration": 0.836867,
     "end_time": "2024-06-17T16:19:12.015098",
     "exception": false,
     "start_time": "2024-06-17T16:19:11.178231",
     "status": "completed"
    },
    "tags": []
   },
   "outputs": [
    {
     "data": {
      "text/plain": [
       "<seaborn.axisgrid.FacetGrid at 0x1eeecd86cf0>"
      ]
     },
     "execution_count": 91,
     "metadata": {},
     "output_type": "execute_result"
    },
    {
     "data": {
      "image/png": "[encoded data removed]",
      "text/plain": [
       "<Figure size 577.986x500 with 1 Axes>"
      ]
     },
     "metadata": {},
     "output_type": "display_data"
    }
   ],
   "source": [
    "df['CreditScore'] = df['CreditScore'].clip(upper=15)\n",
    "sns.displot(df,x='CreditScore',hue='Approved')"
   ]
  },
  {
   "cell_type": "code",
   "execution_count": 92,
   "id": "fdbb4968",
   "metadata": {
    "execution": {
     "iopub.execute_input": "2024-06-17T16:19:12.074831Z",
     "iopub.status.busy": "2024-06-17T16:19:12.074087Z",
     "iopub.status.idle": "2024-06-17T16:19:17.776650Z",
     "shell.execute_reply": "2024-06-17T16:19:17.775486Z"
    },
    "papermill": {
     "duration": 5.735393,
     "end_time": "2024-06-17T16:19:17.779101",
     "exception": false,
     "start_time": "2024-06-17T16:19:12.043708",
     "status": "completed"
    },
    "tags": []
   },
   "outputs": [
    {
     "data": {
      "text/plain": [
       "<seaborn.axisgrid.FacetGrid at 0x1eee984d7f0>"
      ]
     },
     "execution_count": 92,
     "metadata": {},
     "output_type": "execute_result"
    },
    {
     "data": {
      "image/png": "[encoded data removed]",
      "text/plain": [
       "<Figure size 977.986x600 with 1 Axes>"
      ]
     },
     "metadata": {},
     "output_type": "display_data"
    }
   ],
   "source": [
    "\n",
    "sns.displot(df, x='Income', hue='Approved', height=6, aspect=1.5)\n"
   ]
  },
  {
   "cell_type": "code",
   "execution_count": 93,
   "id": "00d8eec1",
   "metadata": {
    "execution": {
     "iopub.execute_input": "2024-06-17T16:19:17.841839Z",
     "iopub.status.busy": "2024-06-17T16:19:17.841371Z",
     "iopub.status.idle": "2024-06-17T16:19:18.422850Z",
     "shell.execute_reply": "2024-06-17T16:19:18.421775Z"
    },
    "papermill": {
     "duration": 0.615736,
     "end_time": "2024-06-17T16:19:18.425308",
     "exception": false,
     "start_time": "2024-06-17T16:19:17.809572",
     "status": "completed"
    },
    "tags": []
   },
   "outputs": [
    {
     "data": {
      "text/plain": [
       "<seaborn.axisgrid.FacetGrid at 0x1eeeb863a40>"
      ]
     },
     "execution_count": 93,
     "metadata": {},
     "output_type": "execute_result"
    },
    {
     "data": {
      "image/png": "[encoded data removed]",
      "text/plain": [
       "<Figure size 577.986x500 with 1 Axes>"
      ]
     },
     "metadata": {},
     "output_type": "display_data"
    }
   ],
   "source": [
    "df['Income'] = df['Income'].clip(upper=1500)\n",
    "sns.displot(df,x='Income',hue='Approved')"
   ]
  },
  {
   "cell_type": "markdown",
   "id": "a5a48372",
   "metadata": {
    "papermill": {
     "duration": 0.030166,
     "end_time": "2024-06-17T16:19:18.485503",
     "exception": false,
     "start_time": "2024-06-17T16:19:18.455337",
     "status": "completed"
    },
    "tags": []
   },
   "source": [
    "**Dummies**"
   ]
  },
  {
   "cell_type": "code",
   "execution_count": 94,
   "id": "490c05d7",
   "metadata": {
    "execution": {
     "iopub.execute_input": "2024-06-17T16:19:18.549447Z",
     "iopub.status.busy": "2024-06-17T16:19:18.548649Z",
     "iopub.status.idle": "2024-06-17T16:19:18.555800Z",
     "shell.execute_reply": "2024-06-17T16:19:18.554823Z"
    },
    "papermill": {
     "duration": 0.041181,
     "end_time": "2024-06-17T16:19:18.558243",
     "exception": false,
     "start_time": "2024-06-17T16:19:18.517062",
     "status": "completed"
    },
    "tags": []
   },
   "outputs": [
    {
     "data": {
      "text/plain": [
       "Index(['Gender', 'Age', 'Debt', 'Married', 'BankCustomer', 'Industry',\n",
       "       'Ethnicity', 'YearsEmployed', 'PriorDefault', 'Employed', 'CreditScore',\n",
       "       'DriversLicense', 'Citizen', 'ZipCode', 'Income', 'Approved'],\n",
       "      dtype='object')"
      ]
     },
     "execution_count": 94,
     "metadata": {},
     "output_type": "execute_result"
    }
   ],
   "source": [
    "df.columns"
   ]
  },
  {
   "cell_type": "code",
   "execution_count": 95,
   "id": "7bd8b301",
   "metadata": {},
   "outputs": [],
   "source": [
    "df = df.drop(columns=['Citizen', 'Industry', 'Ethnicity'])\n"
   ]
  },
  {
   "cell_type": "code",
   "execution_count": 96,
   "id": "b470d81d",
   "metadata": {
    "execution": {
     "iopub.execute_input": "2024-06-17T16:19:18.619982Z",
     "iopub.status.busy": "2024-06-17T16:19:18.619545Z",
     "iopub.status.idle": "2024-06-17T16:19:18.624836Z",
     "shell.execute_reply": "2024-06-17T16:19:18.623780Z"
    },
    "papermill": {
     "duration": 0.038424,
     "end_time": "2024-06-17T16:19:18.627045",
     "exception": false,
     "start_time": "2024-06-17T16:19:18.588621",
     "status": "completed"
    },
    "tags": []
   },
   "outputs": [],
   "source": [
    "cat_feat = ['Gender','Married']"
   ]
  },
  {
   "cell_type": "code",
   "execution_count": 97,
   "id": "7426a60d",
   "metadata": {},
   "outputs": [],
   "source": [
    "\n",
    "from sklearn.preprocessing import LabelEncoder\n",
    "\n",
    "label_encoder = LabelEncoder()\n",
    "df['Gender'] = label_encoder.fit_transform(df['Gender'])\n",
    "\n",
    "df['Married'] = label_encoder.fit_transform(df['Married'])\n"
   ]
  },
  {
   "cell_type": "code",
   "execution_count": 98,
   "id": "92bd643c",
   "metadata": {
    "execution": {
     "iopub.execute_input": "2024-06-17T16:19:18.766127Z",
     "iopub.status.busy": "2024-06-17T16:19:18.765687Z",
     "iopub.status.idle": "2024-06-17T16:19:18.773184Z",
     "shell.execute_reply": "2024-06-17T16:19:18.772106Z"
    },
    "papermill": {
     "duration": 0.041141,
     "end_time": "2024-06-17T16:19:18.775525",
     "exception": false,
     "start_time": "2024-06-17T16:19:18.734384",
     "status": "completed"
    },
    "tags": []
   },
   "outputs": [
    {
     "data": {
      "text/plain": [
       "Index(['Gender', 'Age', 'Debt', 'Married', 'BankCustomer', 'YearsEmployed',\n",
       "       'PriorDefault', 'Employed', 'CreditScore', 'DriversLicense', 'ZipCode',\n",
       "       'Income', 'Approved'],\n",
       "      dtype='object')"
      ]
     },
     "execution_count": 98,
     "metadata": {},
     "output_type": "execute_result"
    }
   ],
   "source": [
    "df.columns"
   ]
  },
  {
   "cell_type": "code",
   "execution_count": 99,
   "id": "3601bde3",
   "metadata": {},
   "outputs": [
    {
     "data": {
      "text/html": [
       "<div>\n",
       "<style scoped>\n",
       "    .dataframe tbody tr th:only-of-type {\n",
       "        vertical-align: middle;\n",
       "    }\n",
       "\n",
       "    .dataframe tbody tr th {\n",
       "        vertical-align: top;\n",
       "    }\n",
       "\n",
       "    .dataframe thead th {\n",
       "        text-align: right;\n",
       "    }\n",
       "</style>\n",
       "<table border=\"1\" class=\"dataframe\">\n",
       "  <thead>\n",
       "    <tr style=\"text-align: right;\">\n",
       "      <th></th>\n",
       "      <th>Gender</th>\n",
       "      <th>Age</th>\n",
       "      <th>Debt</th>\n",
       "      <th>Married</th>\n",
       "      <th>BankCustomer</th>\n",
       "      <th>YearsEmployed</th>\n",
       "      <th>PriorDefault</th>\n",
       "      <th>Employed</th>\n",
       "      <th>CreditScore</th>\n",
       "      <th>DriversLicense</th>\n",
       "      <th>ZipCode</th>\n",
       "      <th>Income</th>\n",
       "      <th>Approved</th>\n",
       "    </tr>\n",
       "  </thead>\n",
       "  <tbody>\n",
       "    <tr>\n",
       "      <th>0</th>\n",
       "      <td>1</td>\n",
       "      <td>30.83</td>\n",
       "      <td>0.000</td>\n",
       "      <td>1</td>\n",
       "      <td>1</td>\n",
       "      <td>1.25</td>\n",
       "      <td>1</td>\n",
       "      <td>1</td>\n",
       "      <td>1</td>\n",
       "      <td>0</td>\n",
       "      <td>202</td>\n",
       "      <td>0</td>\n",
       "      <td>1</td>\n",
       "    </tr>\n",
       "    <tr>\n",
       "      <th>1</th>\n",
       "      <td>0</td>\n",
       "      <td>58.67</td>\n",
       "      <td>4.460</td>\n",
       "      <td>1</td>\n",
       "      <td>1</td>\n",
       "      <td>3.04</td>\n",
       "      <td>1</td>\n",
       "      <td>1</td>\n",
       "      <td>6</td>\n",
       "      <td>0</td>\n",
       "      <td>43</td>\n",
       "      <td>560</td>\n",
       "      <td>1</td>\n",
       "    </tr>\n",
       "    <tr>\n",
       "      <th>2</th>\n",
       "      <td>0</td>\n",
       "      <td>24.50</td>\n",
       "      <td>0.500</td>\n",
       "      <td>1</td>\n",
       "      <td>1</td>\n",
       "      <td>1.50</td>\n",
       "      <td>1</td>\n",
       "      <td>0</td>\n",
       "      <td>0</td>\n",
       "      <td>0</td>\n",
       "      <td>280</td>\n",
       "      <td>824</td>\n",
       "      <td>1</td>\n",
       "    </tr>\n",
       "    <tr>\n",
       "      <th>3</th>\n",
       "      <td>1</td>\n",
       "      <td>27.83</td>\n",
       "      <td>1.540</td>\n",
       "      <td>1</td>\n",
       "      <td>1</td>\n",
       "      <td>3.75</td>\n",
       "      <td>1</td>\n",
       "      <td>1</td>\n",
       "      <td>5</td>\n",
       "      <td>1</td>\n",
       "      <td>100</td>\n",
       "      <td>3</td>\n",
       "      <td>1</td>\n",
       "    </tr>\n",
       "    <tr>\n",
       "      <th>4</th>\n",
       "      <td>1</td>\n",
       "      <td>20.17</td>\n",
       "      <td>5.625</td>\n",
       "      <td>1</td>\n",
       "      <td>1</td>\n",
       "      <td>1.71</td>\n",
       "      <td>1</td>\n",
       "      <td>0</td>\n",
       "      <td>0</td>\n",
       "      <td>0</td>\n",
       "      <td>120</td>\n",
       "      <td>0</td>\n",
       "      <td>1</td>\n",
       "    </tr>\n",
       "    <tr>\n",
       "      <th>...</th>\n",
       "      <td>...</td>\n",
       "      <td>...</td>\n",
       "      <td>...</td>\n",
       "      <td>...</td>\n",
       "      <td>...</td>\n",
       "      <td>...</td>\n",
       "      <td>...</td>\n",
       "      <td>...</td>\n",
       "      <td>...</td>\n",
       "      <td>...</td>\n",
       "      <td>...</td>\n",
       "      <td>...</td>\n",
       "      <td>...</td>\n",
       "    </tr>\n",
       "    <tr>\n",
       "      <th>685</th>\n",
       "      <td>1</td>\n",
       "      <td>21.08</td>\n",
       "      <td>10.085</td>\n",
       "      <td>0</td>\n",
       "      <td>0</td>\n",
       "      <td>1.25</td>\n",
       "      <td>0</td>\n",
       "      <td>0</td>\n",
       "      <td>0</td>\n",
       "      <td>0</td>\n",
       "      <td>260</td>\n",
       "      <td>0</td>\n",
       "      <td>0</td>\n",
       "    </tr>\n",
       "    <tr>\n",
       "      <th>686</th>\n",
       "      <td>0</td>\n",
       "      <td>22.67</td>\n",
       "      <td>0.750</td>\n",
       "      <td>1</td>\n",
       "      <td>1</td>\n",
       "      <td>2.00</td>\n",
       "      <td>0</td>\n",
       "      <td>1</td>\n",
       "      <td>2</td>\n",
       "      <td>1</td>\n",
       "      <td>200</td>\n",
       "      <td>394</td>\n",
       "      <td>0</td>\n",
       "    </tr>\n",
       "    <tr>\n",
       "      <th>687</th>\n",
       "      <td>0</td>\n",
       "      <td>25.25</td>\n",
       "      <td>13.500</td>\n",
       "      <td>0</td>\n",
       "      <td>0</td>\n",
       "      <td>2.00</td>\n",
       "      <td>0</td>\n",
       "      <td>1</td>\n",
       "      <td>1</td>\n",
       "      <td>1</td>\n",
       "      <td>200</td>\n",
       "      <td>1</td>\n",
       "      <td>0</td>\n",
       "    </tr>\n",
       "    <tr>\n",
       "      <th>688</th>\n",
       "      <td>1</td>\n",
       "      <td>17.92</td>\n",
       "      <td>0.205</td>\n",
       "      <td>1</td>\n",
       "      <td>1</td>\n",
       "      <td>0.04</td>\n",
       "      <td>0</td>\n",
       "      <td>0</td>\n",
       "      <td>0</td>\n",
       "      <td>0</td>\n",
       "      <td>280</td>\n",
       "      <td>750</td>\n",
       "      <td>0</td>\n",
       "    </tr>\n",
       "    <tr>\n",
       "      <th>689</th>\n",
       "      <td>1</td>\n",
       "      <td>35.00</td>\n",
       "      <td>3.375</td>\n",
       "      <td>1</td>\n",
       "      <td>1</td>\n",
       "      <td>8.29</td>\n",
       "      <td>0</td>\n",
       "      <td>0</td>\n",
       "      <td>0</td>\n",
       "      <td>1</td>\n",
       "      <td>0</td>\n",
       "      <td>0</td>\n",
       "      <td>0</td>\n",
       "    </tr>\n",
       "  </tbody>\n",
       "</table>\n",
       "<p>690 rows × 13 columns</p>\n",
       "</div>"
      ],
      "text/plain": [
       "     Gender    Age    Debt  Married  BankCustomer  YearsEmployed  \\\n",
       "0         1  30.83   0.000        1             1           1.25   \n",
       "1         0  58.67   4.460        1             1           3.04   \n",
       "2         0  24.50   0.500        1             1           1.50   \n",
       "3         1  27.83   1.540        1             1           3.75   \n",
       "4         1  20.17   5.625        1             1           1.71   \n",
       "..      ...    ...     ...      ...           ...            ...   \n",
       "685       1  21.08  10.085        0             0           1.25   \n",
       "686       0  22.67   0.750        1             1           2.00   \n",
       "687       0  25.25  13.500        0             0           2.00   \n",
       "688       1  17.92   0.205        1             1           0.04   \n",
       "689       1  35.00   3.375        1             1           8.29   \n",
       "\n",
       "     PriorDefault  Employed  CreditScore  DriversLicense  ZipCode  Income  \\\n",
       "0               1         1            1               0      202       0   \n",
       "1               1         1            6               0       43     560   \n",
       "2               1         0            0               0      280     824   \n",
       "3               1         1            5               1      100       3   \n",
       "4               1         0            0               0      120       0   \n",
       "..            ...       ...          ...             ...      ...     ...   \n",
       "685             0         0            0               0      260       0   \n",
       "686             0         1            2               1      200     394   \n",
       "687             0         1            1               1      200       1   \n",
       "688             0         0            0               0      280     750   \n",
       "689             0         0            0               1        0       0   \n",
       "\n",
       "     Approved  \n",
       "0           1  \n",
       "1           1  \n",
       "2           1  \n",
       "3           1  \n",
       "4           1  \n",
       "..        ...  \n",
       "685         0  \n",
       "686         0  \n",
       "687         0  \n",
       "688         0  \n",
       "689         0  \n",
       "\n",
       "[690 rows x 13 columns]"
      ]
     },
     "execution_count": 99,
     "metadata": {},
     "output_type": "execute_result"
    }
   ],
   "source": [
    "df"
   ]
  },
  {
   "cell_type": "code",
   "execution_count": 100,
   "id": "732e949c",
   "metadata": {},
   "outputs": [],
   "source": [
    "y = df.drop(columns=['Approved']) "
   ]
  },
  {
   "cell_type": "code",
   "execution_count": 101,
   "id": "5fe70ca9",
   "metadata": {},
   "outputs": [],
   "source": [
    "col=df.columns\n"
   ]
  },
  {
   "cell_type": "code",
   "execution_count": 102,
   "id": "3cdae967",
   "metadata": {},
   "outputs": [
    {
     "name": "stdout",
     "output_type": "stream",
     "text": [
      "Best Parameters: {'max_depth': 5, 'n_estimators': 200}\n",
      "Best Score: 87.26070861977789\n"
     ]
    }
   ],
   "source": [
    "import pandas as pd\n",
    "from sklearn.preprocessing import StandardScaler\n",
    "from sklearn.ensemble import RandomForestClassifier\n",
    "from sklearn.metrics import recall_score\n",
    "from sklearn.model_selection import GridSearchCV\n",
    "import numpy as np\n",
    "\n",
    "# Assuming 'df' is the DataFrame and 'Approved' is the target column in df\n",
    "in_atts = df.columns.tolist()  # Corrected to refer to 'df' directly instead of 'y.columns'\n",
    "in_atts.remove('Approved')  # Remove target column from features\n",
    "\n",
    "y = df['Approved'] \n",
    "\n",
    "scaler = StandardScaler()\n",
    "df_std = pd.DataFrame(scaler.fit_transform(df[in_atts]), columns=in_atts)\n",
    "\n",
    "rf = RandomForestClassifier(random_state=42)\n",
    "rf.fit(df_std, y)\n",
    "\n",
    "\n",
    "importances = rf.feature_importances_\n",
    "indices = np.argsort(importances)[::-1]\n",
    "\n",
    "top_features = [in_atts[i] for i in indices[:7]]\n",
    "X_selected = df_std[top_features]  \n",
    "\n",
    "param_grid = {\n",
    "    'n_estimators': [100, 200, 300],\n",
    "    'max_depth': [5, 10, 15, 20]\n",
    "}\n",
    "\n",
    "grid_search = GridSearchCV(RandomForestClassifier(random_state=42), param_grid, scoring='recall')\n",
    "grid_search.fit(X_selected, y)\n",
    "\n",
    "print('Best Parameters:', grid_search.best_params_)\n",
    "print('Best Score:', grid_search.best_score_ * 100)\n"
   ]
  },
  {
   "cell_type": "code",
   "execution_count": 103,
   "id": "ca508a42",
   "metadata": {},
   "outputs": [
    {
     "data": {
      "text/plain": [
       "['PriorDefault',\n",
       " 'CreditScore',\n",
       " 'YearsEmployed',\n",
       " 'Debt',\n",
       " 'Age',\n",
       " 'ZipCode',\n",
       " 'Income',\n",
       " 'Employed']"
      ]
     },
     "execution_count": 103,
     "metadata": {},
     "output_type": "execute_result"
    }
   ],
   "source": [
    "\n",
    "\n",
    "top_features = [in_atts[i] for i in indices[:8]]\n",
    "top_features"
   ]
  },
  {
   "cell_type": "code",
   "execution_count": 104,
   "id": "279e4e19",
   "metadata": {},
   "outputs": [
    {
     "data": {
      "text/html": [
       "<div>\n",
       "<style scoped>\n",
       "    .dataframe tbody tr th:only-of-type {\n",
       "        vertical-align: middle;\n",
       "    }\n",
       "\n",
       "    .dataframe tbody tr th {\n",
       "        vertical-align: top;\n",
       "    }\n",
       "\n",
       "    .dataframe thead th {\n",
       "        text-align: right;\n",
       "    }\n",
       "</style>\n",
       "<table border=\"1\" class=\"dataframe\">\n",
       "  <thead>\n",
       "    <tr style=\"text-align: right;\">\n",
       "      <th></th>\n",
       "      <th>Gender</th>\n",
       "      <th>Age</th>\n",
       "      <th>Debt</th>\n",
       "      <th>Married</th>\n",
       "      <th>BankCustomer</th>\n",
       "      <th>YearsEmployed</th>\n",
       "      <th>PriorDefault</th>\n",
       "      <th>Employed</th>\n",
       "      <th>CreditScore</th>\n",
       "      <th>DriversLicense</th>\n",
       "      <th>ZipCode</th>\n",
       "      <th>Income</th>\n",
       "      <th>Approved</th>\n",
       "    </tr>\n",
       "  </thead>\n",
       "  <tbody>\n",
       "    <tr>\n",
       "      <th>0</th>\n",
       "      <td>1</td>\n",
       "      <td>30.83</td>\n",
       "      <td>0.000</td>\n",
       "      <td>1</td>\n",
       "      <td>1</td>\n",
       "      <td>1.25</td>\n",
       "      <td>1</td>\n",
       "      <td>1</td>\n",
       "      <td>1</td>\n",
       "      <td>0</td>\n",
       "      <td>202</td>\n",
       "      <td>0</td>\n",
       "      <td>1</td>\n",
       "    </tr>\n",
       "    <tr>\n",
       "      <th>1</th>\n",
       "      <td>0</td>\n",
       "      <td>58.67</td>\n",
       "      <td>4.460</td>\n",
       "      <td>1</td>\n",
       "      <td>1</td>\n",
       "      <td>3.04</td>\n",
       "      <td>1</td>\n",
       "      <td>1</td>\n",
       "      <td>6</td>\n",
       "      <td>0</td>\n",
       "      <td>43</td>\n",
       "      <td>560</td>\n",
       "      <td>1</td>\n",
       "    </tr>\n",
       "    <tr>\n",
       "      <th>2</th>\n",
       "      <td>0</td>\n",
       "      <td>24.50</td>\n",
       "      <td>0.500</td>\n",
       "      <td>1</td>\n",
       "      <td>1</td>\n",
       "      <td>1.50</td>\n",
       "      <td>1</td>\n",
       "      <td>0</td>\n",
       "      <td>0</td>\n",
       "      <td>0</td>\n",
       "      <td>280</td>\n",
       "      <td>824</td>\n",
       "      <td>1</td>\n",
       "    </tr>\n",
       "    <tr>\n",
       "      <th>3</th>\n",
       "      <td>1</td>\n",
       "      <td>27.83</td>\n",
       "      <td>1.540</td>\n",
       "      <td>1</td>\n",
       "      <td>1</td>\n",
       "      <td>3.75</td>\n",
       "      <td>1</td>\n",
       "      <td>1</td>\n",
       "      <td>5</td>\n",
       "      <td>1</td>\n",
       "      <td>100</td>\n",
       "      <td>3</td>\n",
       "      <td>1</td>\n",
       "    </tr>\n",
       "    <tr>\n",
       "      <th>4</th>\n",
       "      <td>1</td>\n",
       "      <td>20.17</td>\n",
       "      <td>5.625</td>\n",
       "      <td>1</td>\n",
       "      <td>1</td>\n",
       "      <td>1.71</td>\n",
       "      <td>1</td>\n",
       "      <td>0</td>\n",
       "      <td>0</td>\n",
       "      <td>0</td>\n",
       "      <td>120</td>\n",
       "      <td>0</td>\n",
       "      <td>1</td>\n",
       "    </tr>\n",
       "    <tr>\n",
       "      <th>...</th>\n",
       "      <td>...</td>\n",
       "      <td>...</td>\n",
       "      <td>...</td>\n",
       "      <td>...</td>\n",
       "      <td>...</td>\n",
       "      <td>...</td>\n",
       "      <td>...</td>\n",
       "      <td>...</td>\n",
       "      <td>...</td>\n",
       "      <td>...</td>\n",
       "      <td>...</td>\n",
       "      <td>...</td>\n",
       "      <td>...</td>\n",
       "    </tr>\n",
       "    <tr>\n",
       "      <th>685</th>\n",
       "      <td>1</td>\n",
       "      <td>21.08</td>\n",
       "      <td>10.085</td>\n",
       "      <td>0</td>\n",
       "      <td>0</td>\n",
       "      <td>1.25</td>\n",
       "      <td>0</td>\n",
       "      <td>0</td>\n",
       "      <td>0</td>\n",
       "      <td>0</td>\n",
       "      <td>260</td>\n",
       "      <td>0</td>\n",
       "      <td>0</td>\n",
       "    </tr>\n",
       "    <tr>\n",
       "      <th>686</th>\n",
       "      <td>0</td>\n",
       "      <td>22.67</td>\n",
       "      <td>0.750</td>\n",
       "      <td>1</td>\n",
       "      <td>1</td>\n",
       "      <td>2.00</td>\n",
       "      <td>0</td>\n",
       "      <td>1</td>\n",
       "      <td>2</td>\n",
       "      <td>1</td>\n",
       "      <td>200</td>\n",
       "      <td>394</td>\n",
       "      <td>0</td>\n",
       "    </tr>\n",
       "    <tr>\n",
       "      <th>687</th>\n",
       "      <td>0</td>\n",
       "      <td>25.25</td>\n",
       "      <td>13.500</td>\n",
       "      <td>0</td>\n",
       "      <td>0</td>\n",
       "      <td>2.00</td>\n",
       "      <td>0</td>\n",
       "      <td>1</td>\n",
       "      <td>1</td>\n",
       "      <td>1</td>\n",
       "      <td>200</td>\n",
       "      <td>1</td>\n",
       "      <td>0</td>\n",
       "    </tr>\n",
       "    <tr>\n",
       "      <th>688</th>\n",
       "      <td>1</td>\n",
       "      <td>17.92</td>\n",
       "      <td>0.205</td>\n",
       "      <td>1</td>\n",
       "      <td>1</td>\n",
       "      <td>0.04</td>\n",
       "      <td>0</td>\n",
       "      <td>0</td>\n",
       "      <td>0</td>\n",
       "      <td>0</td>\n",
       "      <td>280</td>\n",
       "      <td>750</td>\n",
       "      <td>0</td>\n",
       "    </tr>\n",
       "    <tr>\n",
       "      <th>689</th>\n",
       "      <td>1</td>\n",
       "      <td>35.00</td>\n",
       "      <td>3.375</td>\n",
       "      <td>1</td>\n",
       "      <td>1</td>\n",
       "      <td>8.29</td>\n",
       "      <td>0</td>\n",
       "      <td>0</td>\n",
       "      <td>0</td>\n",
       "      <td>1</td>\n",
       "      <td>0</td>\n",
       "      <td>0</td>\n",
       "      <td>0</td>\n",
       "    </tr>\n",
       "  </tbody>\n",
       "</table>\n",
       "<p>690 rows × 13 columns</p>\n",
       "</div>"
      ],
      "text/plain": [
       "     Gender    Age    Debt  Married  BankCustomer  YearsEmployed  \\\n",
       "0         1  30.83   0.000        1             1           1.25   \n",
       "1         0  58.67   4.460        1             1           3.04   \n",
       "2         0  24.50   0.500        1             1           1.50   \n",
       "3         1  27.83   1.540        1             1           3.75   \n",
       "4         1  20.17   5.625        1             1           1.71   \n",
       "..      ...    ...     ...      ...           ...            ...   \n",
       "685       1  21.08  10.085        0             0           1.25   \n",
       "686       0  22.67   0.750        1             1           2.00   \n",
       "687       0  25.25  13.500        0             0           2.00   \n",
       "688       1  17.92   0.205        1             1           0.04   \n",
       "689       1  35.00   3.375        1             1           8.29   \n",
       "\n",
       "     PriorDefault  Employed  CreditScore  DriversLicense  ZipCode  Income  \\\n",
       "0               1         1            1               0      202       0   \n",
       "1               1         1            6               0       43     560   \n",
       "2               1         0            0               0      280     824   \n",
       "3               1         1            5               1      100       3   \n",
       "4               1         0            0               0      120       0   \n",
       "..            ...       ...          ...             ...      ...     ...   \n",
       "685             0         0            0               0      260       0   \n",
       "686             0         1            2               1      200     394   \n",
       "687             0         1            1               1      200       1   \n",
       "688             0         0            0               0      280     750   \n",
       "689             0         0            0               1        0       0   \n",
       "\n",
       "     Approved  \n",
       "0           1  \n",
       "1           1  \n",
       "2           1  \n",
       "3           1  \n",
       "4           1  \n",
       "..        ...  \n",
       "685         0  \n",
       "686         0  \n",
       "687         0  \n",
       "688         0  \n",
       "689         0  \n",
       "\n",
       "[690 rows x 13 columns]"
      ]
     },
     "execution_count": 104,
     "metadata": {},
     "output_type": "execute_result"
    }
   ],
   "source": [
    "df"
   ]
  },
  {
   "cell_type": "markdown",
   "id": "4799de37",
   "metadata": {
    "papermill": {
     "duration": 0.030738,
     "end_time": "2024-06-17T16:19:18.836608",
     "exception": false,
     "start_time": "2024-06-17T16:19:18.805870",
     "status": "completed"
    },
    "tags": []
   },
   "source": [
    "# Train Test Split"
   ]
  },
  {
   "cell_type": "code",
   "execution_count": 105,
   "id": "f14882a7",
   "metadata": {
    "execution": {
     "iopub.execute_input": "2024-06-17T16:19:18.899854Z",
     "iopub.status.busy": "2024-06-17T16:19:18.899104Z",
     "iopub.status.idle": "2024-06-17T16:19:18.905867Z",
     "shell.execute_reply": "2024-06-17T16:19:18.904796Z"
    },
    "papermill": {
     "duration": 0.04129,
     "end_time": "2024-06-17T16:19:18.908248",
     "exception": false,
     "start_time": "2024-06-17T16:19:18.866958",
     "status": "completed"
    },
    "tags": []
   },
   "outputs": [],
   "source": [
    "features = ['Age', 'Employed' ,'PriorDefault',\n",
    "       'CreditScore', 'Income']\n",
    "\n",
    "target = ['Approved']"
   ]
  },
  {
   "cell_type": "code",
   "execution_count": 106,
   "id": "811baab0",
   "metadata": {
    "execution": {
     "iopub.execute_input": "2024-06-17T16:19:18.971653Z",
     "iopub.status.busy": "2024-06-17T16:19:18.971243Z",
     "iopub.status.idle": "2024-06-17T16:19:18.978765Z",
     "shell.execute_reply": "2024-06-17T16:19:18.977649Z"
    },
    "papermill": {
     "duration": 0.041723,
     "end_time": "2024-06-17T16:19:18.980974",
     "exception": false,
     "start_time": "2024-06-17T16:19:18.939251",
     "status": "completed"
    },
    "tags": []
   },
   "outputs": [],
   "source": [
    "x = df[features]\n",
    "y = df[target]"
   ]
  },
  {
   "cell_type": "code",
   "execution_count": 107,
   "id": "9988e383",
   "metadata": {},
   "outputs": [
    {
     "data": {
      "text/html": [
       "<div>\n",
       "<style scoped>\n",
       "    .dataframe tbody tr th:only-of-type {\n",
       "        vertical-align: middle;\n",
       "    }\n",
       "\n",
       "    .dataframe tbody tr th {\n",
       "        vertical-align: top;\n",
       "    }\n",
       "\n",
       "    .dataframe thead th {\n",
       "        text-align: right;\n",
       "    }\n",
       "</style>\n",
       "<table border=\"1\" class=\"dataframe\">\n",
       "  <thead>\n",
       "    <tr style=\"text-align: right;\">\n",
       "      <th></th>\n",
       "      <th>Age</th>\n",
       "      <th>Employed</th>\n",
       "      <th>PriorDefault</th>\n",
       "      <th>CreditScore</th>\n",
       "      <th>Income</th>\n",
       "    </tr>\n",
       "  </thead>\n",
       "  <tbody>\n",
       "    <tr>\n",
       "      <th>0</th>\n",
       "      <td>30.83</td>\n",
       "      <td>1</td>\n",
       "      <td>1</td>\n",
       "      <td>1</td>\n",
       "      <td>0</td>\n",
       "    </tr>\n",
       "    <tr>\n",
       "      <th>1</th>\n",
       "      <td>58.67</td>\n",
       "      <td>1</td>\n",
       "      <td>1</td>\n",
       "      <td>6</td>\n",
       "      <td>560</td>\n",
       "    </tr>\n",
       "    <tr>\n",
       "      <th>2</th>\n",
       "      <td>24.50</td>\n",
       "      <td>0</td>\n",
       "      <td>1</td>\n",
       "      <td>0</td>\n",
       "      <td>824</td>\n",
       "    </tr>\n",
       "    <tr>\n",
       "      <th>3</th>\n",
       "      <td>27.83</td>\n",
       "      <td>1</td>\n",
       "      <td>1</td>\n",
       "      <td>5</td>\n",
       "      <td>3</td>\n",
       "    </tr>\n",
       "    <tr>\n",
       "      <th>4</th>\n",
       "      <td>20.17</td>\n",
       "      <td>0</td>\n",
       "      <td>1</td>\n",
       "      <td>0</td>\n",
       "      <td>0</td>\n",
       "    </tr>\n",
       "    <tr>\n",
       "      <th>...</th>\n",
       "      <td>...</td>\n",
       "      <td>...</td>\n",
       "      <td>...</td>\n",
       "      <td>...</td>\n",
       "      <td>...</td>\n",
       "    </tr>\n",
       "    <tr>\n",
       "      <th>685</th>\n",
       "      <td>21.08</td>\n",
       "      <td>0</td>\n",
       "      <td>0</td>\n",
       "      <td>0</td>\n",
       "      <td>0</td>\n",
       "    </tr>\n",
       "    <tr>\n",
       "      <th>686</th>\n",
       "      <td>22.67</td>\n",
       "      <td>1</td>\n",
       "      <td>0</td>\n",
       "      <td>2</td>\n",
       "      <td>394</td>\n",
       "    </tr>\n",
       "    <tr>\n",
       "      <th>687</th>\n",
       "      <td>25.25</td>\n",
       "      <td>1</td>\n",
       "      <td>0</td>\n",
       "      <td>1</td>\n",
       "      <td>1</td>\n",
       "    </tr>\n",
       "    <tr>\n",
       "      <th>688</th>\n",
       "      <td>17.92</td>\n",
       "      <td>0</td>\n",
       "      <td>0</td>\n",
       "      <td>0</td>\n",
       "      <td>750</td>\n",
       "    </tr>\n",
       "    <tr>\n",
       "      <th>689</th>\n",
       "      <td>35.00</td>\n",
       "      <td>0</td>\n",
       "      <td>0</td>\n",
       "      <td>0</td>\n",
       "      <td>0</td>\n",
       "    </tr>\n",
       "  </tbody>\n",
       "</table>\n",
       "<p>690 rows × 5 columns</p>\n",
       "</div>"
      ],
      "text/plain": [
       "       Age  Employed  PriorDefault  CreditScore  Income\n",
       "0    30.83         1             1            1       0\n",
       "1    58.67         1             1            6     560\n",
       "2    24.50         0             1            0     824\n",
       "3    27.83         1             1            5       3\n",
       "4    20.17         0             1            0       0\n",
       "..     ...       ...           ...          ...     ...\n",
       "685  21.08         0             0            0       0\n",
       "686  22.67         1             0            2     394\n",
       "687  25.25         1             0            1       1\n",
       "688  17.92         0             0            0     750\n",
       "689  35.00         0             0            0       0\n",
       "\n",
       "[690 rows x 5 columns]"
      ]
     },
     "execution_count": 107,
     "metadata": {},
     "output_type": "execute_result"
    }
   ],
   "source": [
    "x"
   ]
  },
  {
   "cell_type": "code",
   "execution_count": 108,
   "id": "f99dfa6f",
   "metadata": {
    "execution": {
     "iopub.execute_input": "2024-06-17T16:19:19.043898Z",
     "iopub.status.busy": "2024-06-17T16:19:19.043477Z",
     "iopub.status.idle": "2024-06-17T16:19:19.051794Z",
     "shell.execute_reply": "2024-06-17T16:19:19.050668Z"
    },
    "papermill": {
     "duration": 0.042474,
     "end_time": "2024-06-17T16:19:19.054041",
     "exception": false,
     "start_time": "2024-06-17T16:19:19.011567",
     "status": "completed"
    },
    "tags": []
   },
   "outputs": [],
   "source": [
    "x_train,x_test,y_train,y_test = train_test_split(x,y,test_size = .3)"
   ]
  },
  {
   "cell_type": "markdown",
   "id": "413e9c42",
   "metadata": {
    "papermill": {
     "duration": 0.030377,
     "end_time": "2024-06-17T16:19:19.115020",
     "exception": false,
     "start_time": "2024-06-17T16:19:19.084643",
     "status": "completed"
    },
    "tags": []
   },
   "source": [
    "# Modeling"
   ]
  },
  {
   "cell_type": "code",
   "execution_count": 109,
   "id": "5d7f15f6",
   "metadata": {},
   "outputs": [],
   "source": [
    "from sklearn.ensemble import RandomForestClassifier, GradientBoostingClassifier\n",
    "from sklearn.linear_model import LogisticRegression\n",
    "from sklearn.svm import SVC\n",
    "from sklearn.metrics import accuracy_score"
   ]
  },
  {
   "cell_type": "code",
   "execution_count": 110,
   "id": "0001e505",
   "metadata": {
    "execution": {
     "iopub.execute_input": "2024-06-17T16:19:19.178580Z",
     "iopub.status.busy": "2024-06-17T16:19:19.178177Z",
     "iopub.status.idle": "2024-06-17T16:19:19.241952Z",
     "shell.execute_reply": "2024-06-17T16:19:19.240413Z"
    },
    "papermill": {
     "duration": 0.100406,
     "end_time": "2024-06-17T16:19:19.246214",
     "exception": false,
     "start_time": "2024-06-17T16:19:19.145808",
     "status": "completed"
    },
    "tags": []
   },
   "outputs": [],
   "source": [
    "log = LogisticRegression().fit(x_train,y_train)"
   ]
  },
  {
   "cell_type": "code",
   "execution_count": 111,
   "id": "40afd37b",
   "metadata": {
    "execution": {
     "iopub.execute_input": "2024-06-17T16:19:19.369878Z",
     "iopub.status.busy": "2024-06-17T16:19:19.369430Z",
     "iopub.status.idle": "2024-06-17T16:19:19.385147Z",
     "shell.execute_reply": "2024-06-17T16:19:19.383640Z"
    },
    "papermill": {
     "duration": 0.07596,
     "end_time": "2024-06-17T16:19:19.389210",
     "exception": false,
     "start_time": "2024-06-17T16:19:19.313250",
     "status": "completed"
    },
    "tags": []
   },
   "outputs": [],
   "source": [
    "y_pred_train = log.predict(x_train)\n",
    "y_pred_test = log.predict(x_test)"
   ]
  },
  {
   "cell_type": "code",
   "execution_count": 112,
   "id": "2c062773",
   "metadata": {},
   "outputs": [
    {
     "name": "stdout",
     "output_type": "stream",
     "text": [
      "Model Accuracy: 0.85\n"
     ]
    }
   ],
   "source": [
    "y_pred = log.predict(x_test)\n",
    "accuracy = accuracy_score(y_test, y_pred)\n",
    "print(f\"Model Accuracy: {accuracy:.2f}\")"
   ]
  },
  {
   "cell_type": "code",
   "execution_count": 113,
   "id": "3469afb4",
   "metadata": {},
   "outputs": [
    {
     "name": "stdout",
     "output_type": "stream",
     "text": [
      "Logistic Regression Accuracy: 0.85\n"
     ]
    }
   ],
   "source": [
    "log = LogisticRegression(max_iter=1000, random_state=42).fit(x_train, y_train)\n",
    "y_pred_log = log.predict(x_test)\n",
    "accuracy_log = accuracy_score(y_test, y_pred_log)\n",
    "print(f\"Logistic Regression Accuracy: {accuracy_log:.2f}\")"
   ]
  },
  {
   "cell_type": "code",
   "execution_count": 114,
   "id": "fc49b967",
   "metadata": {},
   "outputs": [
    {
     "name": "stdout",
     "output_type": "stream",
     "text": [
      "Random Forest Accuracy: 0.83\n"
     ]
    }
   ],
   "source": [
    "rf = RandomForestClassifier(n_estimators=200, max_depth=5, random_state=32).fit(x_train, y_train)\n",
    "y_pred_rf = rf.predict(x_test)\n",
    "accuracy_rf = accuracy_score(y_test, y_pred_rf)\n",
    "print(f\"Random Forest Accuracy: {accuracy_rf:.2f}\")"
   ]
  },
  {
   "cell_type": "code",
   "execution_count": 115,
   "id": "8d314770",
   "metadata": {},
   "outputs": [
    {
     "name": "stdout",
     "output_type": "stream",
     "text": [
      "Naive Bayes Accuracy: 0.82\n"
     ]
    }
   ],
   "source": [
    "from sklearn.naive_bayes import GaussianNB\n",
    "nb = GaussianNB().fit(x_train, y_train)\n",
    "y_pred_nb = nb.predict(x_test)\n",
    "accuracy_nb = accuracy_score(y_test, y_pred_nb)\n",
    "print(f\"Naive Bayes Accuracy: {accuracy_nb:.2f}\")\n"
   ]
  },
  {
   "cell_type": "code",
   "execution_count": 116,
   "id": "3c8100e6",
   "metadata": {},
   "outputs": [
    {
     "name": "stdout",
     "output_type": "stream",
     "text": [
      "SVM Accuracy: 0.66\n"
     ]
    }
   ],
   "source": [
    "svm = SVC(random_state=42).fit(x_train, y_train)\n",
    "y_pred_svm = svm.predict(x_test)\n",
    "accuracy_svm = accuracy_score(y_test, y_pred_svm)\n",
    "print(f\"SVM Accuracy: {accuracy_svm:.2f}\")"
   ]
  },
  {
   "cell_type": "code",
   "execution_count": 117,
   "id": "179ce767",
   "metadata": {},
   "outputs": [
    {
     "name": "stdout",
     "output_type": "stream",
     "text": [
      "GBM Accuracy: 0.81\n"
     ]
    }
   ],
   "source": [
    "gbm = GradientBoostingClassifier(n_estimators=100, random_state=42).fit(x_train, y_train)\n",
    "y_pred_gbm = gbm.predict(x_test)\n",
    "accuracy_gbm = accuracy_score(y_test, y_pred_gbm)\n",
    "print(f\"GBM Accuracy: {accuracy_gbm:.2f}\")"
   ]
  },
  {
   "cell_type": "code",
   "execution_count": 118,
   "id": "374a2e80",
   "metadata": {},
   "outputs": [
    {
     "name": "stdout",
     "output_type": "stream",
     "text": [
      "AdaBoost Accuracy: 0.82\n"
     ]
    }
   ],
   "source": [
    "from sklearn.ensemble import AdaBoostClassifier\n",
    "\n",
    "ada = AdaBoostClassifier(n_estimators=100, random_state=42).fit(x_train, y_train)\n",
    "y_pred_ada = ada.predict(x_test)\n",
    "accuracy_ada = accuracy_score(y_test, y_pred_ada)\n",
    "print(f\"AdaBoost Accuracy: {accuracy_ada:.2f}\")\n"
   ]
  },
  {
   "cell_type": "code",
   "execution_count": 132,
   "id": "2748e362",
   "metadata": {},
   "outputs": [],
   "source": [
    "import pickle\n",
    "with open('model.pkl', 'wb') as model_file:\n",
    "    pickle.dump(log, model_file)\n"
   ]
  },
  {
   "cell_type": "markdown",
   "id": "0ed5605b",
   "metadata": {},
   "source": [
    "# HYPERTUNING\n"
   ]
  },
  {
   "cell_type": "code",
   "execution_count": 120,
   "id": "0c549c57",
   "metadata": {},
   "outputs": [
    {
     "name": "stdout",
     "output_type": "stream",
     "text": [
      "Best Parameters: {'max_depth': 5, 'n_estimators': 100}\n",
      "Best Score: 87.9918384879725\n"
     ]
    }
   ],
   "source": [
    "param_grid = {'n_estimators': [100, 200, 300, 400, 500], 'max_depth': [5, 10, 15, 20, 25]}\n",
    "grid_search = GridSearchCV(RandomForestClassifier (random_state=42), param_grid, cv=5)\n",
    "grid_search.fit(x_train, y_train)\n",
    "print('Best Parameters:', grid_search.best_params_)\n",
    "print('Best Score:', (grid_search.best_score_)*100)"
   ]
  },
  {
   "cell_type": "code",
   "execution_count": 121,
   "id": "8ae64b5e",
   "metadata": {},
   "outputs": [
    {
     "name": "stdout",
     "output_type": "stream",
     "text": [
      "Best Hyperparameters: {'C': 0.1, 'max_iter': 100, 'solver': 'liblinear'}\n",
      "Best Cross-validation Accuracy: 0.86\n",
      "Test Accuracy: 0.83\n"
     ]
    }
   ],
   "source": [
    "\n",
    "log_reg = LogisticRegression()\n",
    "\n",
    "param_grid = {\n",
    "    'C': [0.1, 1, 10, 100], \n",
    "    'solver': ['liblinear', 'saga'], \n",
    "    'max_iter': [100, 200, 300]  \n",
    "}\n",
    "\n",
    "grid_search = GridSearchCV(log_reg, param_grid, cv=5, scoring='accuracy')\n",
    "\n",
    "grid_search.fit(x_train, y_train)\n",
    "\n",
    "best_params = grid_search.best_params_\n",
    "best_score = grid_search.best_score_\n",
    "\n",
    "print(f\"Best Hyperparameters: {best_params}\")\n",
    "print(f\"Best Cross-validation Accuracy: {best_score:.2f}\")\n",
    "\n",
    "best_log_reg = LogisticRegression(**best_params)\n",
    "best_log_reg.fit(x_train, y_train)\n",
    "\n",
    "y_pred = best_log_reg.predict(x_test)\n",
    "\n",
    "accuracy = accuracy_score(y_test, y_pred)\n",
    "print(f\"Test Accuracy: {accuracy:.2f}\")\n"
   ]
  },
  {
   "cell_type": "code",
   "execution_count": 122,
   "id": "bbfdb789",
   "metadata": {},
   "outputs": [
    {
     "name": "stdout",
     "output_type": "stream",
     "text": [
      "Best Hyperparameters: {'var_smoothing': 1e-09}\n",
      "Best Cross-validation Accuracy: 0.85\n",
      "Test Accuracy: 0.82\n"
     ]
    }
   ],
   "source": [
    "from sklearn.naive_bayes import GaussianNB\n",
    "from sklearn.model_selection import GridSearchCV\n",
    "from sklearn.metrics import accuracy_score\n",
    "\n",
    "gnb = GaussianNB()\n",
    "\n",
    "param_grid = {\n",
    "    'var_smoothing': [1e-9, 1e-8, 1e-7, 1e-6]  \n",
    "}\n",
    "\n",
    "grid_search = GridSearchCV(gnb, param_grid, cv=5, scoring='accuracy')\n",
    "\n",
    "grid_search.fit(x_train, y_train)\n",
    "\n",
    "best_params = grid_search.best_params_\n",
    "best_score = grid_search.best_score_\n",
    "\n",
    "print(f\"Best Hyperparameters: {best_params}\")\n",
    "print(f\"Best Cross-validation Accuracy: {best_score:.2f}\")\n",
    "\n",
    "best_gnb = GaussianNB(**best_params)\n",
    "best_gnb.fit(x_train, y_train)\n",
    "\n",
    "y_pred = best_gnb.predict(x_test)\n",
    "\n",
    "accuracy = accuracy_score(y_test, y_pred)\n",
    "print(f\"Test Accuracy: {accuracy:.2f}\")\n"
   ]
  },
  {
   "cell_type": "markdown",
   "id": "5c7829f9",
   "metadata": {},
   "source": [
    "# Building Hybrid model\n",
    "Based on VotingClassifier"
   ]
  },
  {
   "cell_type": "code",
   "execution_count": 123,
   "id": "a50ae61a",
   "metadata": {},
   "outputs": [
    {
     "name": "stdout",
     "output_type": "stream",
     "text": [
      "Hybrid Model Accuracy: 0.84\n"
     ]
    }
   ],
   "source": [
    "from sklearn.ensemble import VotingClassifier\n",
    "\n",
    "\n",
    "rf = RandomForestClassifier(n_estimators=200, max_depth=15, random_state=42)\n",
    "log_reg = LogisticRegression(C= 10, max_iter= 100 ,random_state=42)\n",
    "nb = GaussianNB(var_smoothing=1e-09)\n",
    "\n",
    "hybrid_model = VotingClassifier(estimators=[\n",
    "    ('rf', rf),\n",
    "    ('log_reg', log_reg),\n",
    "    ('ada', ada)\n",
    "], voting='hard')\n",
    "\n",
    "hybrid_model.fit(x_train, y_train)\n",
    "\n",
    "y_pred = hybrid_model.predict(x_test)\n",
    "\n",
    "accuracy = accuracy_score(y_test, y_pred)\n",
    "print(f\"Hybrid Model Accuracy: {accuracy:.2f}\")\n",
    "\n",
    "\n"
   ]
  },
  {
   "cell_type": "code",
   "execution_count": 124,
   "id": "79b25d9f",
   "metadata": {},
   "outputs": [],
   "source": [
    "y_pred_train = hybrid_model.predict(x_train)\n",
    "y_pred_test = hybrid_model.predict(x_test)"
   ]
  },
  {
   "cell_type": "markdown",
   "id": "b6e30945",
   "metadata": {
    "papermill": {
     "duration": 0.044218,
     "end_time": "2024-06-17T16:19:19.657144",
     "exception": false,
     "start_time": "2024-06-17T16:19:19.612926",
     "status": "completed"
    },
    "tags": []
   },
   "source": [
    "# Confusion Matrix"
   ]
  },
  {
   "cell_type": "code",
   "execution_count": 125,
   "id": "83359045",
   "metadata": {
    "execution": {
     "iopub.execute_input": "2024-06-17T16:19:19.720486Z",
     "iopub.status.busy": "2024-06-17T16:19:19.720108Z",
     "iopub.status.idle": "2024-06-17T16:19:19.725056Z",
     "shell.execute_reply": "2024-06-17T16:19:19.723967Z"
    },
    "papermill": {
     "duration": 0.039737,
     "end_time": "2024-06-17T16:19:19.727461",
     "exception": false,
     "start_time": "2024-06-17T16:19:19.687724",
     "status": "completed"
    },
    "tags": []
   },
   "outputs": [],
   "source": [
    "from sklearn.metrics import confusion_matrix\n",
    "\n"
   ]
  },
  {
   "cell_type": "code",
   "execution_count": 126,
   "id": "3acfd757",
   "metadata": {
    "execution": {
     "iopub.execute_input": "2024-06-17T16:19:19.790809Z",
     "iopub.status.busy": "2024-06-17T16:19:19.790404Z",
     "iopub.status.idle": "2024-06-17T16:19:19.800049Z",
     "shell.execute_reply": "2024-06-17T16:19:19.798966Z"
    },
    "papermill": {
     "duration": 0.043931,
     "end_time": "2024-06-17T16:19:19.802502",
     "exception": false,
     "start_time": "2024-06-17T16:19:19.758571",
     "status": "completed"
    },
    "tags": []
   },
   "outputs": [],
   "source": [
    "def confusion_matrix_plot(y, y_pred, dataset='Train'):\n",
    "  cm = confusion_matrix( y, y_pred, labels=[0, 1])\n",
    "  df_cm = pd.DataFrame(cm, index = [i for i in [\"Actual - No\",\"Actual - Yes\"]],\n",
    "                columns = [i for i in ['Predicted - No','Predicted - Yes']])\n",
    "  group_counts = [\"{0:0.0f}\".format(value) for value in\n",
    "              cm.flatten()]\n",
    "  group_percentages = [\"{0:.2%}\".format(value) for value in\n",
    "                        cm.flatten()/np.sum(cm)]\n",
    "  labels = [f\"{v1}\\n{v2}\" for v1, v2 in\n",
    "            zip(group_counts,group_percentages)]\n",
    "  labels = np.asarray(labels).reshape(2,2)\n",
    "  plt.figure(figsize = (8,5))\n",
    "  sns.heatmap(df_cm, annot=labels,fmt='', cmap='crest')\n",
    "  plt.ylabel('True label')\n",
    "  plt.xlabel('Predicted label')\n",
    "  plt.title(f'{dataset} Confusion Matrix', fontsize=18)"
   ]
  },
  {
   "cell_type": "code",
   "execution_count": 127,
   "id": "27488cb1",
   "metadata": {
    "execution": {
     "iopub.execute_input": "2024-06-17T16:19:19.865645Z",
     "iopub.status.busy": "2024-06-17T16:19:19.864816Z",
     "iopub.status.idle": "2024-06-17T16:19:20.210437Z",
     "shell.execute_reply": "2024-06-17T16:19:20.209264Z"
    },
    "papermill": {
     "duration": 0.379571,
     "end_time": "2024-06-17T16:19:20.212979",
     "exception": false,
     "start_time": "2024-06-17T16:19:19.833408",
     "status": "completed"
    },
    "tags": []
   },
   "outputs": [
    {
     "data": {
      "image/png": "[encoded data removed]",
      "text/plain": [
       "<Figure size 800x500 with 2 Axes>"
      ]
     },
     "metadata": {},
     "output_type": "display_data"
    }
   ],
   "source": [
    "confusion_matrix_plot(y_train,y_pred_train)"
   ]
  },
  {
   "cell_type": "code",
   "execution_count": 128,
   "id": "4346ff38",
   "metadata": {
    "execution": {
     "iopub.execute_input": "2024-06-17T16:19:20.696545Z",
     "iopub.status.busy": "2024-06-17T16:19:20.696161Z",
     "iopub.status.idle": "2024-06-17T16:19:20.742114Z",
     "shell.execute_reply": "2024-06-17T16:19:20.740965Z"
    },
    "papermill": {
     "duration": 0.082468,
     "end_time": "2024-06-17T16:19:20.745727",
     "exception": false,
     "start_time": "2024-06-17T16:19:20.663259",
     "status": "completed"
    },
    "tags": []
   },
   "outputs": [
    {
     "data": {
      "text/html": [
       "<div>\n",
       "<style scoped>\n",
       "    .dataframe tbody tr th:only-of-type {\n",
       "        vertical-align: middle;\n",
       "    }\n",
       "\n",
       "    .dataframe tbody tr th {\n",
       "        vertical-align: top;\n",
       "    }\n",
       "\n",
       "    .dataframe thead th {\n",
       "        text-align: right;\n",
       "    }\n",
       "</style>\n",
       "<table border=\"1\" class=\"dataframe\">\n",
       "  <thead>\n",
       "    <tr style=\"text-align: right;\">\n",
       "      <th></th>\n",
       "      <th>train_scores</th>\n",
       "      <th>test_scores</th>\n",
       "    </tr>\n",
       "  </thead>\n",
       "  <tbody>\n",
       "    <tr>\n",
       "      <th>Hybrid model</th>\n",
       "      <td>0.900621</td>\n",
       "      <td>0.835749</td>\n",
       "    </tr>\n",
       "  </tbody>\n",
       "</table>\n",
       "</div>"
      ],
      "text/plain": [
       "              train_scores  test_scores\n",
       "Hybrid model      0.900621     0.835749"
      ]
     },
     "execution_count": 128,
     "metadata": {},
     "output_type": "execute_result"
    }
   ],
   "source": [
    "train_scores = [hybrid_model.score(x_train[features],y_train)]\n",
    "test_scores = [hybrid_model.score(x_test[features],y_test)]\n",
    "models = ['Hybrid model']\n",
    "score_dict = {\n",
    "    'train_scores':train_scores,\n",
    "    'test_scores':test_scores\n",
    "}\n",
    "pd.DataFrame(score_dict, index=models)\n"
   ]
  },
  {
   "cell_type": "markdown",
   "id": "d7eb45c6",
   "metadata": {},
   "source": [
    "RANDOM FOREST"
   ]
  },
  {
   "cell_type": "code",
   "execution_count": 129,
   "id": "a6c0dba6",
   "metadata": {},
   "outputs": [
    {
     "data": {
      "text/plain": [
       "\"\\nimport pickle\\nwith open('model.pkl', 'wb') as model_file:\\n    pickle.dump(models, model_file)\\n\\n\""
      ]
     },
     "execution_count": 129,
     "metadata": {},
     "output_type": "execute_result"
    }
   ],
   "source": [
    "# Assuming `model` is your trained model\n",
    "\n",
    "'''\n",
    "import pickle\n",
    "with open('model.pkl', 'wb') as model_file:\n",
    "    pickle.dump(models, model_file)\n",
    "\n",
    "'''"
   ]
  }
 ],
 "metadata": {
  "kaggle": {
   "accelerator": "none",
   "dataSources": [
    {
     "datasetId": 2121492,
     "sourceId": 3526626,
     "sourceType": "datasetVersion"
    }
   ],
   "dockerImageVersionId": 30615,
   "isGpuEnabled": false,
   "isInternetEnabled": true,
   "language": "python",
   "sourceType": "notebook"
  },
  "kernelspec": {
   "display_name": "base",
   "language": "python",
   "name": "python3"
  },
  "language_info": {
   "codemirror_mode": {
    "name": "ipython",
    "version": 3
   },
   "file_extension": ".py",
   "mimetype": "text/x-python",
   "name": "python",
   "nbconvert_exporter": "python",
   "pygments_lexer": "ipython3",
   "version": "3.12.7"
  },
  "papermill": {
   "default_parameters": {},
   "duration": 35.246921,
   "end_time": "2024-06-17T16:19:29.134887",
   "environment_variables": {},
   "exception": null,
   "input_path": "__notebook__.ipynb",
   "output_path": "__notebook__.ipynb",
   "parameters": {},
   "start_time": "2024-06-17T16:18:53.887966",
   "version": "2.4.0"
  }
 },
 "nbformat": 4,
 "nbformat_minor": 5
}
